{
  "cells": [
    {
      "cell_type": "markdown",
      "metadata": {
        "id": "YgcvUr9i_E-F"
      },
      "source": [
        "\n",
        "\n",
        "# Pandas\n",
        "\n",
        "1. `DataFrames` y  `Series`\n",
        "2. Operaciones básicas\n",
        "\n",
        "`pandas` es una librería que proporciona herramientas analíticas y estructuras de datos con alto rendimiento y facilidad de uso. En particular, la clase `DataFrame` es útil para representación y manipulación de datos heterogéneos tabulados (hojas de cálculo, tabla SQL, etc.)   \n",
        "\n",
        "## Características\n",
        "- Ofrece estructuras de datos flexibles y expresivas diseñadas para trabajar con datos tabulados y etiquetados, esta son: `Series` y  `DataFrame`.\n",
        "- Posee herramientas robustas de lectura/escritura de datos desde ficheros con formatos conocidos como: CSV, XLS. SQL, HDF5, entre otros.\n",
        "- Permite filtrar, agregar, o eliminar datos.\n",
        "- Combina las características de las matrices de alto rendimiento de `numpy` con capacidades de manipulación de datos tabulados.\n",
        "\n",
        "Para importar los módulos de la librería `pandas`, por convención se utiliza:"
      ]
    },
    {
      "cell_type": "code",
      "execution_count": null,
      "metadata": {
        "id": "TXOn-4Q0_E-F"
      },
      "outputs": [],
      "source": [
        "import pandas as pd\n",
        "import numpy as np\n",
        "import matplotlib.pyplot as plt"
      ]
    },
    {
      "cell_type": "markdown",
      "metadata": {
        "id": "KFLYUXZX_E-H"
      },
      "source": [
        "\n",
        "\n",
        "## DataFrames y Series\n",
        "\n",
        "Las funcionalidades de `pandas` se basan en dos estructuras de datos fundamentales: *Series* y *DataFrames*.\n",
        "\n",
        "Una `Series` es un objeto que contiene un `array` unidimensional de datos y un `array` de etiquetas, conocido como *índice*. Si no se especifica un índice o etiqueta, este se genera internamente como una secuencia ordenada de números enteros.\n",
        "\n",
        "```python\n",
        "s = pd.Series(data, index=index)\n",
        "```\n",
        "\n",
        "Un `DataFrame` es una estructura de datos que almacena datos de forma tabular, es decir, ordenada en filas y columnas etiquetadas. Cada fila (`row`) contiene una observación y cada columna (`column`) una variable. Un `DataFrame` acepta datos heterogéneos, es decir, variables pueden ser de distinto tipo (numérico, string, boolean, etc.). Además de contener datos, un `DataFrame` contiene el nombre de las variables y sus tipos, y métodos que permiten acceder y modificar los datos.\n",
        "\n",
        "```python\n",
        "s = pd.DataFrame(data, ...)\n",
        "```\n",
        "\n",
        "Las `Series` y `DataFrame` permiten representar datos 1D y 2D. Para representar datos con más dimensiones `pandas` posee otras estructuras de datos más complejas (en fase experimental), llamadas `Panel`, `Panel4D`, `PanelND`. Estas estructuras están fuera del alcance de este curso."
      ]
    },
    {
      "cell_type": "markdown",
      "metadata": {
        "id": "8EVvtS4s_E-I"
      },
      "source": [
        "\n",
        "\n",
        "---\n",
        "# Series en Pandas\n",
        "\n",
        "## Creación de Series\n"
      ]
    },
    {
      "cell_type": "markdown",
      "metadata": {
        "id": "85mS5ki6_E-I"
      },
      "source": [
        "\n",
        "\n",
        "Crear una Series con índices automáticos a partir de una lista"
      ]
    },
    {
      "cell_type": "code",
      "execution_count": null,
      "metadata": {
        "colab": {
          "base_uri": "https://localhost:8080/"
        },
        "id": "fd48t5GF_E-J",
        "outputId": "9d439b85-50ac-4089-e3da-a665c463a8d6"
      },
      "outputs": [
        {
          "data": {
            "text/plain": [
              "0    1979\n",
              "1    1980\n",
              "2    1981\n",
              "3    1982\n",
              "dtype: int64"
            ]
          },
          "execution_count": 3,
          "metadata": {
            "tags": []
          },
          "output_type": "execute_result"
        }
      ],
      "source": [
        "serie = pd.Series([1979, 1980, 1981, 1982])\n",
        "serie"
      ]
    },
    {
      "cell_type": "markdown",
      "metadata": {
        "id": "bjWxBJ5F_E-K"
      },
      "source": [
        "\n",
        "\n",
        "Las `Series` poseen dos atributos: `values`  e `index`. El primero es un `numpy array` que almacena los datos, y el segundo es un objeto que contiene los índices."
      ]
    },
    {
      "cell_type": "code",
      "execution_count": null,
      "metadata": {
        "colab": {
          "base_uri": "https://localhost:8080/"
        },
        "id": "5bn5HYun_E-L",
        "outputId": "83288c49-5d05-49f9-88cc-0da9059182c6"
      },
      "outputs": [
        {
          "data": {
            "text/plain": [
              "array([1979, 1980, 1981, 1982])"
            ]
          },
          "execution_count": 4,
          "metadata": {
            "tags": []
          },
          "output_type": "execute_result"
        }
      ],
      "source": [
        "serie.values"
      ]
    },
    {
      "cell_type": "code",
      "execution_count": null,
      "metadata": {
        "colab": {
          "base_uri": "https://localhost:8080/"
        },
        "id": "CaBleUBU_E-M",
        "outputId": "59f530cf-445a-4efd-9010-6ae71be202fe"
      },
      "outputs": [
        {
          "data": {
            "text/plain": [
              "RangeIndex(start=0, stop=4, step=1)"
            ]
          },
          "execution_count": 5,
          "metadata": {
            "tags": []
          },
          "output_type": "execute_result"
        }
      ],
      "source": [
        "serie.index"
      ]
    },
    {
      "cell_type": "markdown",
      "metadata": {
        "id": "lTiuGiQ-_E-O"
      },
      "source": [
        "\n",
        "\n",
        "Al crear una `Series` se puede definir explícitamente un `array` índice y pasarlo como argumento."
      ]
    },
    {
      "cell_type": "markdown",
      "metadata": {
        "id": "xvKAUjKG_E-O"
      },
      "source": [
        "\n",
        "\n",
        "Crear Series con índices definidos"
      ]
    },
    {
      "cell_type": "code",
      "execution_count": null,
      "metadata": {
        "colab": {
          "base_uri": "https://localhost:8080/"
        },
        "id": "oFajvo0H_E-P",
        "outputId": "52bdcc1f-2916-474e-e38b-9936e207bb18"
      },
      "outputs": [
        {
          "data": {
            "text/plain": [
              "carolina    1979\n",
              "martha      1980\n",
              "nicky       1981\n",
              "theresa     1982\n",
              "nicky       1983\n",
              "dtype: int64"
            ]
          },
          "execution_count": 6,
          "metadata": {
            "tags": []
          },
          "output_type": "execute_result"
        }
      ],
      "source": [
        "serie = pd.Series(data=[1979, 1980, 1981, 1982, 1983],\n",
        "                  index=['carolina', 'martha', 'nicky', 'theresa', 'nicky'])\n",
        "serie"
      ]
    },
    {
      "cell_type": "markdown",
      "metadata": {
        "id": "wdGqwAJo_E-R"
      },
      "source": [
        "\n",
        "\n",
        "También se pueden crear `Series` a partir de diccionarios, `numpy arrays`, desde ficheros, etc."
      ]
    },
    {
      "cell_type": "markdown",
      "metadata": {
        "id": "VAEUq65O_E-b"
      },
      "source": [
        "Serie a partir de un fichero de datos, se asigna una columna y el squeeze a True convierte el resultado en Series en lugar de Dataframe."
      ]
    },
    {
      "cell_type": "code",
      "execution_count": null,
      "metadata": {
        "colab": {
          "base_uri": "https://localhost:8080/"
        },
        "id": "qEKkwgGn_E-c",
        "outputId": "0b3963a8-bc82-42ed-979f-2a982029bf41"
      },
      "outputs": [
        {
          "data": {
            "text/plain": [
              "0           Bulbasaur\n",
              "1             Ivysaur\n",
              "2            Venusaur\n",
              "3       Mega Venusaur\n",
              "4          Charmander\n",
              "            ...      \n",
              "795           Diancie\n",
              "796      Mega Diancie\n",
              "797    Hoopa Confined\n",
              "798     Hoopa Unbound\n",
              "799         Volcanion\n",
              "Name: Name, Length: 800, dtype: object"
            ]
          },
          "execution_count": 8,
          "metadata": {
            "tags": []
          },
          "output_type": "execute_result"
        }
      ],
      "source": [
        "serie_pokemon = pd.read_csv('pokemon.csv', squeeze=True, usecols=['Name'])\n",
        "serie_pokemon"
      ]
    },
    {
      "cell_type": "markdown",
      "metadata": {
        "id": "Vl0iI22e_E-d"
      },
      "source": [
        "\n",
        "\n",
        "---\n",
        "## Acceso a datos en Series\n"
      ]
    },
    {
      "cell_type": "markdown",
      "metadata": {
        "id": "bfRwG-V0_E-g"
      },
      "source": [
        "\n",
        "\n",
        "El acceso a los datos se puede realizar mediante el índice categórico o el numérico que genera internamente Pandas"
      ]
    },
    {
      "cell_type": "markdown",
      "metadata": {
        "id": "Te4SARJI_E-g"
      },
      "source": [
        "\n",
        "\n",
        "Creamos de nuevo la serie inicial"
      ]
    },
    {
      "cell_type": "code",
      "execution_count": null,
      "metadata": {
        "id": "gNCzm1iN_E-h"
      },
      "outputs": [],
      "source": [
        "serie = pd.Series(data=[1979, 1980, 1981, 1982, 1983],\n",
        "                  index=['carolina', 'martha', 'nicky', 'theresa', 'nicky'])\n",
        "serie"
      ]
    },
    {
      "cell_type": "markdown",
      "metadata": {
        "id": "9ZjCB5aG_E-i"
      },
      "source": [
        "\n",
        "\n",
        "Indexación mediante etiqueta"
      ]
    },
    {
      "cell_type": "code",
      "execution_count": null,
      "metadata": {
        "colab": {
          "base_uri": "https://localhost:8080/"
        },
        "id": "4OAJ9dPL_E-j",
        "outputId": "8190a1dd-83c1-4bb3-e6cb-bd6d5aa49427"
      },
      "outputs": [
        {
          "name": "stdout",
          "output_type": "stream",
          "text": [
            "1980\n"
          ]
        }
      ],
      "source": [
        "print(serie['martha'])"
      ]
    },
    {
      "cell_type": "markdown",
      "metadata": {
        "id": "J82CMVAp_E-k"
      },
      "source": [
        "\n",
        "\n",
        "Indexación mediante índice numérico interno"
      ]
    },
    {
      "cell_type": "code",
      "execution_count": null,
      "metadata": {
        "colab": {
          "base_uri": "https://localhost:8080/"
        },
        "id": "YY7XUdQI_E-l",
        "outputId": "09f0af44-33e9-4bcc-9092-7ab95ffca1e6"
      },
      "outputs": [
        {
          "name": "stdout",
          "output_type": "stream",
          "text": [
            "1980\n"
          ]
        }
      ],
      "source": [
        "print(serie[1])"
      ]
    },
    {
      "cell_type": "markdown",
      "metadata": {
        "id": "mKCisPEB_E-n"
      },
      "source": [
        "\n",
        "\n",
        "El índice puede contener valores duplicados"
      ]
    },
    {
      "cell_type": "code",
      "execution_count": null,
      "metadata": {
        "colab": {
          "base_uri": "https://localhost:8080/"
        },
        "id": "oYsWsHmz_E-o",
        "outputId": "f13de905-fb57-472e-97d2-3106fff990d1"
      },
      "outputs": [
        {
          "name": "stdout",
          "output_type": "stream",
          "text": [
            "nicky    1981\n",
            "nicky    1983\n",
            "dtype: int64\n"
          ]
        }
      ],
      "source": [
        "print(serie['nicky'])"
      ]
    },
    {
      "cell_type": "markdown",
      "metadata": {
        "id": "iaNiqr6J_E-s"
      },
      "source": [
        "\n",
        "\n",
        "Podemos seleccionar varios valores indicando un intervalo de índices"
      ]
    },
    {
      "cell_type": "markdown",
      "metadata": {
        "id": "FXrifxcc_E-t"
      },
      "source": [
        "\n",
        "\n",
        "Recuperamos desde el valor de la posición 1 (el primer elemento tiene un index = 0) hasta el final del índice."
      ]
    },
    {
      "cell_type": "code",
      "execution_count": null,
      "metadata": {
        "id": "5K2XejzK_E-u"
      },
      "outputs": [],
      "source": [
        "serie[1:]"
      ]
    },
    {
      "cell_type": "markdown",
      "metadata": {
        "id": "OC6KSWXM_E-w"
      },
      "source": [
        "\n",
        "\n",
        "Recuperamos los elementos desde la posición 1 a la 2"
      ]
    },
    {
      "cell_type": "code",
      "execution_count": null,
      "metadata": {
        "id": "9SWti3fL_E-x"
      },
      "outputs": [],
      "source": [
        "serie[1:3]"
      ]
    },
    {
      "cell_type": "markdown",
      "metadata": {
        "id": "aJgd1Ko8_E-z"
      },
      "source": [
        "\n",
        "\n",
        "Podemos usar también índices negativos"
      ]
    },
    {
      "cell_type": "code",
      "execution_count": null,
      "metadata": {
        "id": "hs-YDHtw_E-z"
      },
      "outputs": [],
      "source": [
        "serie[-4:-2]"
      ]
    },
    {
      "cell_type": "markdown",
      "metadata": {
        "id": "3KfYg3Ya_E-1"
      },
      "source": [
        "\n",
        "\n",
        "---\n",
        "## Métodos en Series"
      ]
    },
    {
      "cell_type": "markdown",
      "metadata": {
        "id": "2bNa4ZHq_E_N"
      },
      "source": [
        "\n",
        "\n",
        "Ordena los valores, por defecto de menos a más."
      ]
    },
    {
      "cell_type": "code",
      "execution_count": null,
      "metadata": {
        "colab": {
          "base_uri": "https://localhost:8080/"
        },
        "id": "Vqai4DBG_E_N",
        "outputId": "b123b7a1-9c91-4f14-abb8-99f2479932c0"
      },
      "outputs": [
        {
          "data": {
            "text/plain": [
              "carolina    1979\n",
              "martha      1980\n",
              "nicky       1981\n",
              "theresa     1982\n",
              "nicky       1983\n",
              "dtype: int64"
            ]
          },
          "execution_count": 12,
          "metadata": {
            "tags": []
          },
          "output_type": "execute_result"
        }
      ],
      "source": [
        "serie.sort_values()"
      ]
    },
    {
      "cell_type": "markdown",
      "metadata": {
        "id": "hQ2rDR2F_E_Q"
      },
      "source": [
        "\n",
        "\n",
        "Ordenamos de forma descendente"
      ]
    },
    {
      "cell_type": "code",
      "execution_count": null,
      "metadata": {
        "colab": {
          "base_uri": "https://localhost:8080/"
        },
        "id": "2H3foggR_E_Q",
        "outputId": "9b8f65a9-b591-4a85-8afb-f9a2d310fff6"
      },
      "outputs": [
        {
          "data": {
            "text/plain": [
              "nicky       1983\n",
              "theresa     1982\n",
              "nicky       1981\n",
              "martha      1980\n",
              "carolina    1979\n",
              "dtype: int64"
            ]
          },
          "execution_count": 13,
          "metadata": {
            "tags": []
          },
          "output_type": "execute_result"
        }
      ],
      "source": [
        "serie.sort_values(ascending=False)"
      ]
    },
    {
      "cell_type": "markdown",
      "metadata": {
        "id": "77GzQE5A_E_U"
      },
      "source": [
        "\n",
        "\n",
        "Para que los cambios modifique realmente la serie hay que indicarlo mediante el parámetro inplace"
      ]
    },
    {
      "cell_type": "code",
      "execution_count": null,
      "metadata": {
        "colab": {
          "base_uri": "https://localhost:8080/"
        },
        "id": "j2vmKOO6_E_V",
        "outputId": "4c598600-5294-4bbf-81c0-e3eb231dacab"
      },
      "outputs": [
        {
          "data": {
            "text/plain": [
              "510                Abomasnow\n",
              "68                      Abra\n",
              "392                    Absol\n",
              "678                 Accelgor\n",
              "750    Aegislash Blade Forme\n",
              "               ...          \n",
              "631                    Zorua\n",
              "46                     Zubat\n",
              "695                 Zweilous\n",
              "794       Zygarde Half Forme\n",
              "62                       NaN\n",
              "Name: Name, Length: 800, dtype: object"
            ]
          },
          "execution_count": 14,
          "metadata": {
            "tags": []
          },
          "output_type": "execute_result"
        }
      ],
      "source": [
        "serie_pokemon.sort_values(inplace=True)\n",
        "serie_pokemon"
      ]
    },
    {
      "cell_type": "markdown",
      "metadata": {
        "id": "5KBzJgo7_E_Y"
      },
      "source": [
        "\n",
        "\n",
        "Si queremos ordernar mediante el índice recurrimos a sort_index()"
      ]
    },
    {
      "cell_type": "code",
      "execution_count": null,
      "metadata": {
        "colab": {
          "base_uri": "https://localhost:8080/"
        },
        "id": "UtTp1uOY_E_Z",
        "outputId": "1a1bb848-0916-4b87-c106-b9dd9754ece6"
      },
      "outputs": [
        {
          "data": {
            "text/plain": [
              "0           Bulbasaur\n",
              "1             Ivysaur\n",
              "2            Venusaur\n",
              "3       Mega Venusaur\n",
              "4          Charmander\n",
              "            ...      \n",
              "795           Diancie\n",
              "796      Mega Diancie\n",
              "797    Hoopa Confined\n",
              "798     Hoopa Unbound\n",
              "799         Volcanion\n",
              "Name: Name, Length: 800, dtype: object"
            ]
          },
          "execution_count": 15,
          "metadata": {
            "tags": []
          },
          "output_type": "execute_result"
        }
      ],
      "source": [
        "serie_pokemon.sort_index()"
      ]
    },
    {
      "cell_type": "markdown",
      "metadata": {
        "id": "0uJ_BOfK_E_a"
      },
      "source": [
        "\n",
        "\n",
        "Nos devuelve el número de items de cada elemento"
      ]
    },
    {
      "cell_type": "code",
      "execution_count": null,
      "metadata": {
        "id": "LbWpcVoO_E_a"
      },
      "outputs": [],
      "source": [
        "serie_pokemon.value_counts()"
      ]
    },
    {
      "cell_type": "markdown",
      "metadata": {
        "id": "cg9swk22_E_h"
      },
      "source": [
        "\n",
        "\n",
        "---\n",
        "# Dataframes en Pandas\n",
        "\n",
        "## Creación de Dataframes\n",
        "\n",
        "A diferencia de `Series`, los `DataFrame` están diseñados para almacenar datos heterogéneos multivariables. Por ejemplo:"
      ]
    },
    {
      "cell_type": "markdown",
      "metadata": {
        "id": "JzKtzCsD_E_h"
      },
      "source": [
        "\n",
        "\n",
        "Índice de filas automático"
      ]
    },
    {
      "cell_type": "code",
      "execution_count": null,
      "metadata": {
        "colab": {
          "base_uri": "https://localhost:8080/",
          "height": 198
        },
        "id": "mCDsL9Gh_E_h",
        "outputId": "47379660-9197-499c-ccd2-43c12b6dfe15"
      },
      "outputs": [
        {
          "data": {
            "text/html": [
              "<div>\n",
              "<style scoped>\n",
              "    .dataframe tbody tr th:only-of-type {\n",
              "        vertical-align: middle;\n",
              "    }\n",
              "\n",
              "    .dataframe tbody tr th {\n",
              "        vertical-align: top;\n",
              "    }\n",
              "\n",
              "    .dataframe thead th {\n",
              "        text-align: right;\n",
              "    }\n",
              "</style>\n",
              "<table border=\"1\" class=\"dataframe\">\n",
              "  <thead>\n",
              "    <tr style=\"text-align: right;\">\n",
              "      <th></th>\n",
              "      <th>state</th>\n",
              "      <th>year</th>\n",
              "      <th>pop</th>\n",
              "    </tr>\n",
              "  </thead>\n",
              "  <tbody>\n",
              "    <tr>\n",
              "      <th>0</th>\n",
              "      <td>Ohio</td>\n",
              "      <td>2000</td>\n",
              "      <td>1.5</td>\n",
              "    </tr>\n",
              "    <tr>\n",
              "      <th>1</th>\n",
              "      <td>Ohio</td>\n",
              "      <td>2001</td>\n",
              "      <td>1.7</td>\n",
              "    </tr>\n",
              "    <tr>\n",
              "      <th>2</th>\n",
              "      <td>Ohio</td>\n",
              "      <td>2002</td>\n",
              "      <td>3.6</td>\n",
              "    </tr>\n",
              "    <tr>\n",
              "      <th>3</th>\n",
              "      <td>Nevada</td>\n",
              "      <td>2001</td>\n",
              "      <td>2.4</td>\n",
              "    </tr>\n",
              "    <tr>\n",
              "      <th>4</th>\n",
              "      <td>Nevada</td>\n",
              "      <td>2002</td>\n",
              "      <td>2.9</td>\n",
              "    </tr>\n",
              "  </tbody>\n",
              "</table>\n",
              "</div>"
            ],
            "text/plain": [
              "    state  year  pop\n",
              "0    Ohio  2000  1.5\n",
              "1    Ohio  2001  1.7\n",
              "2    Ohio  2002  3.6\n",
              "3  Nevada  2001  2.4\n",
              "4  Nevada  2002  2.9"
            ]
          },
          "execution_count": 16,
          "metadata": {
            "tags": []
          },
          "output_type": "execute_result"
        }
      ],
      "source": [
        "data = {'state': ['Ohio', 'Ohio', 'Ohio', 'Nevada', 'Nevada'],\n",
        "        'year': [2000, 2001, 2002, 2001, 2002],\n",
        "        'pop': [1.5, 1.7, 3.6, 2.4, 2.9]}\n",
        "\n",
        "df = pd.DataFrame(data)\n",
        "df"
      ]
    },
    {
      "cell_type": "code",
      "execution_count": null,
      "metadata": {
        "id": "H42PAh_A_E_o"
      },
      "outputs": [],
      "source": [
        "import numpy as np\n",
        "import pandas as pd"
      ]
    },
    {
      "cell_type": "markdown",
      "metadata": {
        "id": "ADhw04U__E_q"
      },
      "source": [
        "\n",
        "\n",
        "DataFrame a partir de un diccionario de listas e índice"
      ]
    },
    {
      "cell_type": "code",
      "execution_count": null,
      "metadata": {
        "colab": {
          "base_uri": "https://localhost:8080/",
          "height": 108
        },
        "id": "vQ3U8mFU_E_r",
        "outputId": "e8b8fa1c-284d-49fe-ab7c-38582c0ce2e8"
      },
      "outputs": [
        {
          "data": {
            "text/html": [
              "<div>\n",
              "<style scoped>\n",
              "    .dataframe tbody tr th:only-of-type {\n",
              "        vertical-align: middle;\n",
              "    }\n",
              "\n",
              "    .dataframe tbody tr th {\n",
              "        vertical-align: top;\n",
              "    }\n",
              "\n",
              "    .dataframe thead th {\n",
              "        text-align: right;\n",
              "    }\n",
              "</style>\n",
              "<table border=\"1\" class=\"dataframe\">\n",
              "  <thead>\n",
              "    <tr style=\"text-align: right;\">\n",
              "      <th></th>\n",
              "      <th>nombre</th>\n",
              "      <th>score</th>\n",
              "    </tr>\n",
              "  </thead>\n",
              "  <tbody>\n",
              "    <tr>\n",
              "      <th>id1</th>\n",
              "      <td>Pablo</td>\n",
              "      <td>22.2</td>\n",
              "    </tr>\n",
              "    <tr>\n",
              "      <th>id2</th>\n",
              "      <td>Teresa</td>\n",
              "      <td>33.3</td>\n",
              "    </tr>\n",
              "  </tbody>\n",
              "</table>\n",
              "</div>"
            ],
            "text/plain": [
              "     nombre  score\n",
              "id1   Pablo   22.2\n",
              "id2  Teresa   33.3"
            ]
          },
          "execution_count": 18,
          "metadata": {
            "tags": []
          },
          "output_type": "execute_result"
        }
      ],
      "source": [
        "df = pd.DataFrame({'nombre': ['Pablo', 'Teresa'],\n",
        "                   'score': [22.2, 33.3]},\n",
        "                  index=['id1', 'id2'])\n",
        "df"
      ]
    },
    {
      "cell_type": "markdown",
      "metadata": {
        "id": "o6XmjOMT_E_u"
      },
      "source": [
        "\n",
        "\n",
        "Dataframe a partir fichero"
      ]
    },
    {
      "cell_type": "code",
      "execution_count": null,
      "metadata": {
        "id": "OWwJZWwBv53X"
      },
      "outputs": [],
      "source": [
        "nba = pd.read_csv('nba.csv')"
      ]
    },
    {
      "cell_type": "markdown",
      "metadata": {
        "id": "o2TVy99w_E_z"
      },
      "source": [
        "\n",
        "\n",
        "Se pueden consultar el nombre de las variables usando el atributo `columns`"
      ]
    },
    {
      "cell_type": "code",
      "execution_count": null,
      "metadata": {
        "colab": {
          "base_uri": "https://localhost:8080/"
        },
        "id": "x-1L8Ikn_E_0",
        "outputId": "b1412f2d-a8d9-4947-d97e-45135f93f8ff"
      },
      "outputs": [
        {
          "data": {
            "text/plain": [
              "Index(['Player', 'height', 'weight', 'collage', 'born', 'birth_city',\n",
              "       'birth_state'],\n",
              "      dtype='object')"
            ]
          },
          "execution_count": 21,
          "metadata": {
            "tags": []
          },
          "output_type": "execute_result"
        }
      ],
      "source": [
        "nba.columns"
      ]
    },
    {
      "cell_type": "code",
      "execution_count": null,
      "metadata": {
        "colab": {
          "base_uri": "https://localhost:8080/",
          "height": 348
        },
        "id": "QricvrnkgZl8",
        "outputId": "f7770e4d-562d-4a65-e74e-e3c75698b322"
      },
      "outputs": [
        {
          "data": {
            "text/html": [
              "<div>\n",
              "<style scoped>\n",
              "    .dataframe tbody tr th:only-of-type {\n",
              "        vertical-align: middle;\n",
              "    }\n",
              "\n",
              "    .dataframe tbody tr th {\n",
              "        vertical-align: top;\n",
              "    }\n",
              "\n",
              "    .dataframe thead th {\n",
              "        text-align: right;\n",
              "    }\n",
              "</style>\n",
              "<table border=\"1\" class=\"dataframe\">\n",
              "  <thead>\n",
              "    <tr style=\"text-align: right;\">\n",
              "      <th></th>\n",
              "      <th>Player</th>\n",
              "      <th>height</th>\n",
              "      <th>weight</th>\n",
              "      <th>collage</th>\n",
              "      <th>born</th>\n",
              "      <th>birth_city</th>\n",
              "      <th>birth_state</th>\n",
              "    </tr>\n",
              "  </thead>\n",
              "  <tbody>\n",
              "    <tr>\n",
              "      <th>0</th>\n",
              "      <td>Curly Armstrong</td>\n",
              "      <td>180.0</td>\n",
              "      <td>77.0</td>\n",
              "      <td>Indiana University</td>\n",
              "      <td>1918.0</td>\n",
              "      <td>NaN</td>\n",
              "      <td>NaN</td>\n",
              "    </tr>\n",
              "    <tr>\n",
              "      <th>1</th>\n",
              "      <td>Cliff Barker</td>\n",
              "      <td>188.0</td>\n",
              "      <td>83.0</td>\n",
              "      <td>University of Kentucky</td>\n",
              "      <td>1921.0</td>\n",
              "      <td>Yorktown</td>\n",
              "      <td>Indiana</td>\n",
              "    </tr>\n",
              "    <tr>\n",
              "      <th>2</th>\n",
              "      <td>Leo Barnhorst</td>\n",
              "      <td>193.0</td>\n",
              "      <td>86.0</td>\n",
              "      <td>University of Notre Dame</td>\n",
              "      <td>1924.0</td>\n",
              "      <td>NaN</td>\n",
              "      <td>NaN</td>\n",
              "    </tr>\n",
              "    <tr>\n",
              "      <th>3</th>\n",
              "      <td>Ed Bartels</td>\n",
              "      <td>196.0</td>\n",
              "      <td>88.0</td>\n",
              "      <td>North Carolina State University</td>\n",
              "      <td>1925.0</td>\n",
              "      <td>NaN</td>\n",
              "      <td>NaN</td>\n",
              "    </tr>\n",
              "    <tr>\n",
              "      <th>4</th>\n",
              "      <td>Ralph Beard</td>\n",
              "      <td>178.0</td>\n",
              "      <td>79.0</td>\n",
              "      <td>University of Kentucky</td>\n",
              "      <td>1927.0</td>\n",
              "      <td>Hardinsburg</td>\n",
              "      <td>Kentucky</td>\n",
              "    </tr>\n",
              "    <tr>\n",
              "      <th>5</th>\n",
              "      <td>Gene Berce</td>\n",
              "      <td>180.0</td>\n",
              "      <td>79.0</td>\n",
              "      <td>Marquette University</td>\n",
              "      <td>1926.0</td>\n",
              "      <td>NaN</td>\n",
              "      <td>NaN</td>\n",
              "    </tr>\n",
              "    <tr>\n",
              "      <th>6</th>\n",
              "      <td>Charlie Black</td>\n",
              "      <td>196.0</td>\n",
              "      <td>90.0</td>\n",
              "      <td>University of Kansas</td>\n",
              "      <td>1921.0</td>\n",
              "      <td>Arco</td>\n",
              "      <td>Idaho</td>\n",
              "    </tr>\n",
              "    <tr>\n",
              "      <th>7</th>\n",
              "      <td>Nelson Bobb</td>\n",
              "      <td>183.0</td>\n",
              "      <td>77.0</td>\n",
              "      <td>Temple University</td>\n",
              "      <td>1924.0</td>\n",
              "      <td>Philadelphia</td>\n",
              "      <td>Pennsylvania</td>\n",
              "    </tr>\n",
              "    <tr>\n",
              "      <th>8</th>\n",
              "      <td>Jake Bornheimer</td>\n",
              "      <td>196.0</td>\n",
              "      <td>90.0</td>\n",
              "      <td>Muhlenberg College</td>\n",
              "      <td>1927.0</td>\n",
              "      <td>New Brunswick</td>\n",
              "      <td>New Jersey</td>\n",
              "    </tr>\n",
              "    <tr>\n",
              "      <th>9</th>\n",
              "      <td>Vince Boryla</td>\n",
              "      <td>196.0</td>\n",
              "      <td>95.0</td>\n",
              "      <td>University of Denver</td>\n",
              "      <td>1927.0</td>\n",
              "      <td>East Chicago</td>\n",
              "      <td>Indiana</td>\n",
              "    </tr>\n",
              "  </tbody>\n",
              "</table>\n",
              "</div>"
            ],
            "text/plain": [
              "            Player  height  weight  ...    born     birth_city   birth_state\n",
              "0  Curly Armstrong   180.0    77.0  ...  1918.0            NaN           NaN\n",
              "1     Cliff Barker   188.0    83.0  ...  1921.0       Yorktown       Indiana\n",
              "2    Leo Barnhorst   193.0    86.0  ...  1924.0            NaN           NaN\n",
              "3       Ed Bartels   196.0    88.0  ...  1925.0            NaN           NaN\n",
              "4      Ralph Beard   178.0    79.0  ...  1927.0    Hardinsburg      Kentucky\n",
              "5       Gene Berce   180.0    79.0  ...  1926.0            NaN           NaN\n",
              "6    Charlie Black   196.0    90.0  ...  1921.0           Arco         Idaho\n",
              "7      Nelson Bobb   183.0    77.0  ...  1924.0   Philadelphia  Pennsylvania\n",
              "8  Jake Bornheimer   196.0    90.0  ...  1927.0  New Brunswick    New Jersey\n",
              "9     Vince Boryla   196.0    95.0  ...  1927.0   East Chicago       Indiana\n",
              "\n",
              "[10 rows x 7 columns]"
            ]
          },
          "execution_count": 22,
          "metadata": {
            "tags": []
          },
          "output_type": "execute_result"
        }
      ],
      "source": [
        "nba.head(10)"
      ]
    },
    {
      "cell_type": "markdown",
      "metadata": {
        "id": "hUSf5dm1_E_2"
      },
      "source": [
        "\n",
        "\n",
        "---\n",
        "## Acceso a datos en Dataframes\n"
      ]
    },
    {
      "cell_type": "markdown",
      "metadata": {
        "id": "njRdkDlU_E_2"
      },
      "source": [
        "\n",
        "\n",
        "Se pueden extraer columnas de un `DataFrame` con la etiqueta de la columna (sólo si es un identificador Python válido)  usando notación tipo diccionario o como atributo del objeto. En ambos casos se obtiene un objeto tipo `Series`."
      ]
    },
    {
      "cell_type": "code",
      "execution_count": null,
      "metadata": {
        "colab": {
          "base_uri": "https://localhost:8080/"
        },
        "id": "L92JDqnw_E_3",
        "outputId": "8bf9d859-db0f-4996-b503-ea63c08001a3"
      },
      "outputs": [
        {
          "data": {
            "text/plain": [
              "0         Curly Armstrong\n",
              "1            Cliff Barker\n",
              "2           Leo Barnhorst\n",
              "3              Ed Bartels\n",
              "4             Ralph Beard\n",
              "              ...        \n",
              "3917        Troy Williams\n",
              "3918         Kyle Wiltjer\n",
              "3919    Stephen Zimmerman\n",
              "3920          Paul Zipser\n",
              "3921          Ivica Zubac\n",
              "Name: Player, Length: 3922, dtype: object"
            ]
          },
          "execution_count": 24,
          "metadata": {
            "tags": []
          },
          "output_type": "execute_result"
        }
      ],
      "source": [
        "nba['Player']  # dict type"
      ]
    },
    {
      "cell_type": "code",
      "execution_count": null,
      "metadata": {
        "colab": {
          "base_uri": "https://localhost:8080/"
        },
        "id": "D3k33m9t_E_4",
        "outputId": "93f1914e-3160-4334-cee9-9d15150cefcf"
      },
      "outputs": [
        {
          "data": {
            "text/plain": [
              "0         Curly Armstrong\n",
              "1            Cliff Barker\n",
              "2           Leo Barnhorst\n",
              "3              Ed Bartels\n",
              "4             Ralph Beard\n",
              "              ...        \n",
              "3917        Troy Williams\n",
              "3918         Kyle Wiltjer\n",
              "3919    Stephen Zimmerman\n",
              "3920          Paul Zipser\n",
              "3921          Ivica Zubac\n",
              "Name: Player, Length: 3922, dtype: object"
            ]
          },
          "execution_count": 25,
          "metadata": {
            "tags": []
          },
          "output_type": "execute_result"
        }
      ],
      "source": [
        "nba.Player  # attribute type"
      ]
    },
    {
      "cell_type": "markdown",
      "metadata": {
        "id": "x2dKLtFT_E_5"
      },
      "source": [
        "\n",
        "\n",
        "Mediante la notación de dobles [] obtenemos un Dataframe en lugar de una Serie"
      ]
    },
    {
      "cell_type": "code",
      "execution_count": null,
      "metadata": {
        "colab": {
          "base_uri": "https://localhost:8080/",
          "height": 407
        },
        "id": "s2yCb6bG_E_6",
        "outputId": "10262c27-a2d2-420b-c59d-e619db13642e"
      },
      "outputs": [
        {
          "data": {
            "text/html": [
              "<div>\n",
              "<style scoped>\n",
              "    .dataframe tbody tr th:only-of-type {\n",
              "        vertical-align: middle;\n",
              "    }\n",
              "\n",
              "    .dataframe tbody tr th {\n",
              "        vertical-align: top;\n",
              "    }\n",
              "\n",
              "    .dataframe thead th {\n",
              "        text-align: right;\n",
              "    }\n",
              "</style>\n",
              "<table border=\"1\" class=\"dataframe\">\n",
              "  <thead>\n",
              "    <tr style=\"text-align: right;\">\n",
              "      <th></th>\n",
              "      <th>Player</th>\n",
              "    </tr>\n",
              "  </thead>\n",
              "  <tbody>\n",
              "    <tr>\n",
              "      <th>0</th>\n",
              "      <td>Curly Armstrong</td>\n",
              "    </tr>\n",
              "    <tr>\n",
              "      <th>1</th>\n",
              "      <td>Cliff Barker</td>\n",
              "    </tr>\n",
              "    <tr>\n",
              "      <th>2</th>\n",
              "      <td>Leo Barnhorst</td>\n",
              "    </tr>\n",
              "    <tr>\n",
              "      <th>3</th>\n",
              "      <td>Ed Bartels</td>\n",
              "    </tr>\n",
              "    <tr>\n",
              "      <th>4</th>\n",
              "      <td>Ralph Beard</td>\n",
              "    </tr>\n",
              "    <tr>\n",
              "      <th>...</th>\n",
              "      <td>...</td>\n",
              "    </tr>\n",
              "    <tr>\n",
              "      <th>3917</th>\n",
              "      <td>Troy Williams</td>\n",
              "    </tr>\n",
              "    <tr>\n",
              "      <th>3918</th>\n",
              "      <td>Kyle Wiltjer</td>\n",
              "    </tr>\n",
              "    <tr>\n",
              "      <th>3919</th>\n",
              "      <td>Stephen Zimmerman</td>\n",
              "    </tr>\n",
              "    <tr>\n",
              "      <th>3920</th>\n",
              "      <td>Paul Zipser</td>\n",
              "    </tr>\n",
              "    <tr>\n",
              "      <th>3921</th>\n",
              "      <td>Ivica Zubac</td>\n",
              "    </tr>\n",
              "  </tbody>\n",
              "</table>\n",
              "<p>3922 rows × 1 columns</p>\n",
              "</div>"
            ],
            "text/plain": [
              "                 Player\n",
              "0       Curly Armstrong\n",
              "1          Cliff Barker\n",
              "2         Leo Barnhorst\n",
              "3            Ed Bartels\n",
              "4           Ralph Beard\n",
              "...                 ...\n",
              "3917      Troy Williams\n",
              "3918       Kyle Wiltjer\n",
              "3919  Stephen Zimmerman\n",
              "3920        Paul Zipser\n",
              "3921        Ivica Zubac\n",
              "\n",
              "[3922 rows x 1 columns]"
            ]
          },
          "execution_count": 26,
          "metadata": {
            "tags": []
          },
          "output_type": "execute_result"
        }
      ],
      "source": [
        "nba[['Player']]"
      ]
    },
    {
      "cell_type": "code",
      "execution_count": null,
      "metadata": {
        "colab": {
          "base_uri": "https://localhost:8080/"
        },
        "id": "mavuyoee_E_9",
        "outputId": "eab63fa8-dd2a-423e-ce35-7440ae0b73ff"
      },
      "outputs": [
        {
          "data": {
            "text/plain": [
              "(pandas.core.series.Series,\n",
              " pandas.core.series.Series,\n",
              " pandas.core.frame.DataFrame)"
            ]
          },
          "execution_count": 27,
          "metadata": {
            "tags": []
          },
          "output_type": "execute_result"
        }
      ],
      "source": [
        "type(nba.Player), type(nba['Player']), type(nba[['Player']])"
      ]
    },
    {
      "cell_type": "markdown",
      "metadata": {
        "id": "MszsbBul_E_-"
      },
      "source": [
        "\n",
        "\n",
        "Podemos recuperar varias columnas a la vez"
      ]
    },
    {
      "cell_type": "code",
      "execution_count": null,
      "metadata": {
        "colab": {
          "base_uri": "https://localhost:8080/",
          "height": 407
        },
        "id": "fMqHdRRc_E__",
        "outputId": "a920d554-5171-469b-e13e-87f100578cf6"
      },
      "outputs": [
        {
          "data": {
            "text/html": [
              "<div>\n",
              "<style scoped>\n",
              "    .dataframe tbody tr th:only-of-type {\n",
              "        vertical-align: middle;\n",
              "    }\n",
              "\n",
              "    .dataframe tbody tr th {\n",
              "        vertical-align: top;\n",
              "    }\n",
              "\n",
              "    .dataframe thead th {\n",
              "        text-align: right;\n",
              "    }\n",
              "</style>\n",
              "<table border=\"1\" class=\"dataframe\">\n",
              "  <thead>\n",
              "    <tr style=\"text-align: right;\">\n",
              "      <th></th>\n",
              "      <th>Player</th>\n",
              "      <th>height</th>\n",
              "    </tr>\n",
              "  </thead>\n",
              "  <tbody>\n",
              "    <tr>\n",
              "      <th>0</th>\n",
              "      <td>Curly Armstrong</td>\n",
              "      <td>180.0</td>\n",
              "    </tr>\n",
              "    <tr>\n",
              "      <th>1</th>\n",
              "      <td>Cliff Barker</td>\n",
              "      <td>188.0</td>\n",
              "    </tr>\n",
              "    <tr>\n",
              "      <th>2</th>\n",
              "      <td>Leo Barnhorst</td>\n",
              "      <td>193.0</td>\n",
              "    </tr>\n",
              "    <tr>\n",
              "      <th>3</th>\n",
              "      <td>Ed Bartels</td>\n",
              "      <td>196.0</td>\n",
              "    </tr>\n",
              "    <tr>\n",
              "      <th>4</th>\n",
              "      <td>Ralph Beard</td>\n",
              "      <td>178.0</td>\n",
              "    </tr>\n",
              "    <tr>\n",
              "      <th>...</th>\n",
              "      <td>...</td>\n",
              "      <td>...</td>\n",
              "    </tr>\n",
              "    <tr>\n",
              "      <th>3917</th>\n",
              "      <td>Troy Williams</td>\n",
              "      <td>198.0</td>\n",
              "    </tr>\n",
              "    <tr>\n",
              "      <th>3918</th>\n",
              "      <td>Kyle Wiltjer</td>\n",
              "      <td>208.0</td>\n",
              "    </tr>\n",
              "    <tr>\n",
              "      <th>3919</th>\n",
              "      <td>Stephen Zimmerman</td>\n",
              "      <td>213.0</td>\n",
              "    </tr>\n",
              "    <tr>\n",
              "      <th>3920</th>\n",
              "      <td>Paul Zipser</td>\n",
              "      <td>203.0</td>\n",
              "    </tr>\n",
              "    <tr>\n",
              "      <th>3921</th>\n",
              "      <td>Ivica Zubac</td>\n",
              "      <td>216.0</td>\n",
              "    </tr>\n",
              "  </tbody>\n",
              "</table>\n",
              "<p>3922 rows × 2 columns</p>\n",
              "</div>"
            ],
            "text/plain": [
              "                 Player  height\n",
              "0       Curly Armstrong   180.0\n",
              "1          Cliff Barker   188.0\n",
              "2         Leo Barnhorst   193.0\n",
              "3            Ed Bartels   196.0\n",
              "4           Ralph Beard   178.0\n",
              "...                 ...     ...\n",
              "3917      Troy Williams   198.0\n",
              "3918       Kyle Wiltjer   208.0\n",
              "3919  Stephen Zimmerman   213.0\n",
              "3920        Paul Zipser   203.0\n",
              "3921        Ivica Zubac   216.0\n",
              "\n",
              "[3922 rows x 2 columns]"
            ]
          },
          "execution_count": 28,
          "metadata": {
            "tags": []
          },
          "output_type": "execute_result"
        }
      ],
      "source": [
        "nba[['Player','height']]"
      ]
    },
    {
      "cell_type": "markdown",
      "metadata": {
        "id": "iLWL8Rgm_FAA"
      },
      "source": [
        "\n",
        "\n",
        "Para acceder a las filas, se puede usar `loc` o `iloc`."
      ]
    },
    {
      "cell_type": "markdown",
      "metadata": {
        "id": "1fCtglnX_FAC"
      },
      "source": [
        "\n",
        "\n",
        "Permite acceder al contenido de un registro mediante la etiqueta del índice"
      ]
    },
    {
      "cell_type": "code",
      "execution_count": null,
      "metadata": {
        "colab": {
          "base_uri": "https://localhost:8080/",
          "height": 108
        },
        "id": "4jEYIBUdwRLQ",
        "outputId": "07ded6cd-1fb2-4802-8e7a-9d5dcd7f25b6"
      },
      "outputs": [
        {
          "data": {
            "text/html": [
              "<div>\n",
              "<style scoped>\n",
              "    .dataframe tbody tr th:only-of-type {\n",
              "        vertical-align: middle;\n",
              "    }\n",
              "\n",
              "    .dataframe tbody tr th {\n",
              "        vertical-align: top;\n",
              "    }\n",
              "\n",
              "    .dataframe thead th {\n",
              "        text-align: right;\n",
              "    }\n",
              "</style>\n",
              "<table border=\"1\" class=\"dataframe\">\n",
              "  <thead>\n",
              "    <tr style=\"text-align: right;\">\n",
              "      <th></th>\n",
              "      <th>nombre</th>\n",
              "      <th>score</th>\n",
              "    </tr>\n",
              "  </thead>\n",
              "  <tbody>\n",
              "    <tr>\n",
              "      <th>id1</th>\n",
              "      <td>Pablo</td>\n",
              "      <td>22.2</td>\n",
              "    </tr>\n",
              "    <tr>\n",
              "      <th>id2</th>\n",
              "      <td>Teresa</td>\n",
              "      <td>33.3</td>\n",
              "    </tr>\n",
              "  </tbody>\n",
              "</table>\n",
              "</div>"
            ],
            "text/plain": [
              "     nombre  score\n",
              "id1   Pablo   22.2\n",
              "id2  Teresa   33.3"
            ]
          },
          "execution_count": 29,
          "metadata": {
            "tags": []
          },
          "output_type": "execute_result"
        }
      ],
      "source": [
        "df"
      ]
    },
    {
      "cell_type": "code",
      "execution_count": null,
      "metadata": {
        "colab": {
          "base_uri": "https://localhost:8080/"
        },
        "id": "f7MYB8Tg_FAD",
        "outputId": "2e8493ce-7bb7-42b6-df75-43ffb15814e7"
      },
      "outputs": [
        {
          "data": {
            "text/plain": [
              "nombre    Teresa\n",
              "score       33.3\n",
              "Name: id2, dtype: object"
            ]
          },
          "execution_count": 30,
          "metadata": {
            "tags": []
          },
          "output_type": "execute_result"
        }
      ],
      "source": [
        "df.loc['id2']"
      ]
    },
    {
      "cell_type": "markdown",
      "metadata": {
        "id": "MXWCJsnB_FAF"
      },
      "source": [
        "\n",
        "\n",
        "Permite acceder al contenido de un registro mediante la posición del índice"
      ]
    },
    {
      "cell_type": "code",
      "execution_count": null,
      "metadata": {
        "colab": {
          "base_uri": "https://localhost:8080/"
        },
        "id": "LtaPVYts_FAG",
        "outputId": "993481dc-5083-4d32-c463-ffc2cd36fd43"
      },
      "outputs": [
        {
          "data": {
            "text/plain": [
              "nombre    Teresa\n",
              "score       33.3\n",
              "Name: id2, dtype: object"
            ]
          },
          "execution_count": 31,
          "metadata": {
            "tags": []
          },
          "output_type": "execute_result"
        }
      ],
      "source": [
        "df.iloc[1]"
      ]
    },
    {
      "cell_type": "markdown",
      "metadata": {
        "id": "uWyfG8UB_FAH"
      },
      "source": [
        "\n",
        "\n",
        "Podemos acceder a un valor concreto usando el acceso a datos visto anteriormente en Series"
      ]
    },
    {
      "cell_type": "code",
      "execution_count": null,
      "metadata": {
        "colab": {
          "base_uri": "https://localhost:8080/"
        },
        "id": "ba3KY8E9_FAI",
        "outputId": "4d6b30d6-2cf5-468b-b771-1579c6d5245b"
      },
      "outputs": [
        {
          "data": {
            "text/plain": [
              "33.3"
            ]
          },
          "execution_count": 32,
          "metadata": {
            "tags": []
          },
          "output_type": "execute_result"
        }
      ],
      "source": [
        "df.iloc[1]['score']"
      ]
    },
    {
      "cell_type": "markdown",
      "metadata": {
        "id": "SB3W9xdn_FAJ"
      },
      "source": [
        "\n",
        "\n",
        "---\n",
        "## Métodos en Dataframes\n",
        "\n",
        "\n",
        "Vemos algunos métodos útiles de la clase Dataframe"
      ]
    },
    {
      "cell_type": "code",
      "execution_count": null,
      "metadata": {
        "id": "urTD1fWA_FAK"
      },
      "outputs": [],
      "source": [
        "data = pd.read_csv('baseball.csv')"
      ]
    },
    {
      "cell_type": "markdown",
      "metadata": {
        "id": "dsKFx_ms_FAL"
      },
      "source": [
        "\n",
        "\n",
        "Nos indica el número de columnas y filas del dataframe"
      ]
    },
    {
      "cell_type": "code",
      "execution_count": null,
      "metadata": {
        "colab": {
          "base_uri": "https://localhost:8080/"
        },
        "id": "h-e2OfUL_FAM",
        "outputId": "091a7fcb-6be9-4f52-b030-171057ae817b"
      },
      "outputs": [
        {
          "data": {
            "text/plain": [
              "(100, 23)"
            ]
          },
          "execution_count": 34,
          "metadata": {
            "tags": []
          },
          "output_type": "execute_result"
        }
      ],
      "source": [
        "data.shape"
      ]
    },
    {
      "cell_type": "code",
      "execution_count": null,
      "metadata": {
        "colab": {
          "base_uri": "https://localhost:8080/"
        },
        "id": "Y41lp5WY_FAP",
        "outputId": "3f7c2677-b9e4-42de-e856-320f19cf134d"
      },
      "outputs": [
        {
          "data": {
            "text/plain": [
              "array([[88641, 'womacto01', 2006, ..., 3.0, 0.0, 0.0],\n",
              "       [88643, 'schilcu01', 2006, ..., 0.0, 0.0, 0.0],\n",
              "       [88645, 'myersmi01', 2006, ..., 0.0, 0.0, 0.0],\n",
              "       ...,\n",
              "       [89530, 'ausmubr01', 2007, ..., 4.0, 1.0, 11.0],\n",
              "       [89533, 'aloumo01', 2007, ..., 0.0, 3.0, 13.0],\n",
              "       [89534, 'alomasa02', 2007, ..., 0.0, 0.0, 0.0]], dtype=object)"
            ]
          },
          "execution_count": 35,
          "metadata": {
            "tags": []
          },
          "output_type": "execute_result"
        }
      ],
      "source": [
        "data.values"
      ]
    },
    {
      "cell_type": "markdown",
      "metadata": {
        "id": "ZJdx1qE3_FAQ"
      },
      "source": [
        "\n",
        "\n",
        "Devuelve los n primeros registros (5 por defecto)"
      ]
    },
    {
      "cell_type": "code",
      "execution_count": null,
      "metadata": {
        "colab": {
          "base_uri": "https://localhost:8080/",
          "height": 198
        },
        "id": "5hmqrO1S_FAS",
        "outputId": "710fd50e-dbdd-4fe1-91bf-9f45fba09e62"
      },
      "outputs": [
        {
          "data": {
            "text/html": [
              "<div>\n",
              "<style scoped>\n",
              "    .dataframe tbody tr th:only-of-type {\n",
              "        vertical-align: middle;\n",
              "    }\n",
              "\n",
              "    .dataframe tbody tr th {\n",
              "        vertical-align: top;\n",
              "    }\n",
              "\n",
              "    .dataframe thead th {\n",
              "        text-align: right;\n",
              "    }\n",
              "</style>\n",
              "<table border=\"1\" class=\"dataframe\">\n",
              "  <thead>\n",
              "    <tr style=\"text-align: right;\">\n",
              "      <th></th>\n",
              "      <th>id</th>\n",
              "      <th>player</th>\n",
              "      <th>year</th>\n",
              "      <th>stint</th>\n",
              "      <th>team</th>\n",
              "      <th>lg</th>\n",
              "      <th>g</th>\n",
              "      <th>ab</th>\n",
              "      <th>r</th>\n",
              "      <th>h</th>\n",
              "      <th>X2b</th>\n",
              "      <th>X3b</th>\n",
              "      <th>hr</th>\n",
              "      <th>rbi</th>\n",
              "      <th>sb</th>\n",
              "      <th>cs</th>\n",
              "      <th>bb</th>\n",
              "      <th>so</th>\n",
              "      <th>ibb</th>\n",
              "      <th>hbp</th>\n",
              "      <th>sh</th>\n",
              "      <th>sf</th>\n",
              "      <th>gidp</th>\n",
              "    </tr>\n",
              "  </thead>\n",
              "  <tbody>\n",
              "    <tr>\n",
              "      <th>0</th>\n",
              "      <td>88641</td>\n",
              "      <td>womacto01</td>\n",
              "      <td>2006</td>\n",
              "      <td>2</td>\n",
              "      <td>CHN</td>\n",
              "      <td>NL</td>\n",
              "      <td>19</td>\n",
              "      <td>50</td>\n",
              "      <td>6</td>\n",
              "      <td>14</td>\n",
              "      <td>1</td>\n",
              "      <td>0</td>\n",
              "      <td>1</td>\n",
              "      <td>2.0</td>\n",
              "      <td>1.0</td>\n",
              "      <td>1.0</td>\n",
              "      <td>4</td>\n",
              "      <td>4.0</td>\n",
              "      <td>0.0</td>\n",
              "      <td>0.0</td>\n",
              "      <td>3.0</td>\n",
              "      <td>0.0</td>\n",
              "      <td>0.0</td>\n",
              "    </tr>\n",
              "    <tr>\n",
              "      <th>1</th>\n",
              "      <td>88643</td>\n",
              "      <td>schilcu01</td>\n",
              "      <td>2006</td>\n",
              "      <td>1</td>\n",
              "      <td>BOS</td>\n",
              "      <td>AL</td>\n",
              "      <td>31</td>\n",
              "      <td>2</td>\n",
              "      <td>0</td>\n",
              "      <td>1</td>\n",
              "      <td>0</td>\n",
              "      <td>0</td>\n",
              "      <td>0</td>\n",
              "      <td>0.0</td>\n",
              "      <td>0.0</td>\n",
              "      <td>0.0</td>\n",
              "      <td>0</td>\n",
              "      <td>1.0</td>\n",
              "      <td>0.0</td>\n",
              "      <td>0.0</td>\n",
              "      <td>0.0</td>\n",
              "      <td>0.0</td>\n",
              "      <td>0.0</td>\n",
              "    </tr>\n",
              "    <tr>\n",
              "      <th>2</th>\n",
              "      <td>88645</td>\n",
              "      <td>myersmi01</td>\n",
              "      <td>2006</td>\n",
              "      <td>1</td>\n",
              "      <td>NYA</td>\n",
              "      <td>AL</td>\n",
              "      <td>62</td>\n",
              "      <td>0</td>\n",
              "      <td>0</td>\n",
              "      <td>0</td>\n",
              "      <td>0</td>\n",
              "      <td>0</td>\n",
              "      <td>0</td>\n",
              "      <td>0.0</td>\n",
              "      <td>0.0</td>\n",
              "      <td>0.0</td>\n",
              "      <td>0</td>\n",
              "      <td>0.0</td>\n",
              "      <td>0.0</td>\n",
              "      <td>0.0</td>\n",
              "      <td>0.0</td>\n",
              "      <td>0.0</td>\n",
              "      <td>0.0</td>\n",
              "    </tr>\n",
              "    <tr>\n",
              "      <th>3</th>\n",
              "      <td>88649</td>\n",
              "      <td>helliri01</td>\n",
              "      <td>2006</td>\n",
              "      <td>1</td>\n",
              "      <td>MIL</td>\n",
              "      <td>NL</td>\n",
              "      <td>20</td>\n",
              "      <td>3</td>\n",
              "      <td>0</td>\n",
              "      <td>0</td>\n",
              "      <td>0</td>\n",
              "      <td>0</td>\n",
              "      <td>0</td>\n",
              "      <td>0.0</td>\n",
              "      <td>0.0</td>\n",
              "      <td>0.0</td>\n",
              "      <td>0</td>\n",
              "      <td>2.0</td>\n",
              "      <td>0.0</td>\n",
              "      <td>0.0</td>\n",
              "      <td>0.0</td>\n",
              "      <td>0.0</td>\n",
              "      <td>0.0</td>\n",
              "    </tr>\n",
              "    <tr>\n",
              "      <th>4</th>\n",
              "      <td>88650</td>\n",
              "      <td>johnsra05</td>\n",
              "      <td>2006</td>\n",
              "      <td>1</td>\n",
              "      <td>NYA</td>\n",
              "      <td>AL</td>\n",
              "      <td>33</td>\n",
              "      <td>6</td>\n",
              "      <td>0</td>\n",
              "      <td>1</td>\n",
              "      <td>0</td>\n",
              "      <td>0</td>\n",
              "      <td>0</td>\n",
              "      <td>0.0</td>\n",
              "      <td>0.0</td>\n",
              "      <td>0.0</td>\n",
              "      <td>0</td>\n",
              "      <td>4.0</td>\n",
              "      <td>0.0</td>\n",
              "      <td>0.0</td>\n",
              "      <td>0.0</td>\n",
              "      <td>0.0</td>\n",
              "      <td>0.0</td>\n",
              "    </tr>\n",
              "  </tbody>\n",
              "</table>\n",
              "</div>"
            ],
            "text/plain": [
              "      id     player  year  stint team  lg  ...   so  ibb  hbp   sh   sf  gidp\n",
              "0  88641  womacto01  2006      2  CHN  NL  ...  4.0  0.0  0.0  3.0  0.0   0.0\n",
              "1  88643  schilcu01  2006      1  BOS  AL  ...  1.0  0.0  0.0  0.0  0.0   0.0\n",
              "2  88645  myersmi01  2006      1  NYA  AL  ...  0.0  0.0  0.0  0.0  0.0   0.0\n",
              "3  88649  helliri01  2006      1  MIL  NL  ...  2.0  0.0  0.0  0.0  0.0   0.0\n",
              "4  88650  johnsra05  2006      1  NYA  AL  ...  4.0  0.0  0.0  0.0  0.0   0.0\n",
              "\n",
              "[5 rows x 23 columns]"
            ]
          },
          "execution_count": 36,
          "metadata": {
            "tags": []
          },
          "output_type": "execute_result"
        }
      ],
      "source": [
        "data.head()"
      ]
    },
    {
      "cell_type": "markdown",
      "metadata": {
        "id": "O7TiGH64_FAT"
      },
      "source": [
        "\n",
        "\n",
        "Devuelve los n primeros registros (5 por defecto)"
      ]
    },
    {
      "cell_type": "code",
      "execution_count": null,
      "metadata": {
        "colab": {
          "base_uri": "https://localhost:8080/",
          "height": 138
        },
        "id": "D-TVtZ1-_FAT",
        "outputId": "bdf34ffb-f1ba-4c47-85cf-bce15d7445c0"
      },
      "outputs": [
        {
          "data": {
            "text/html": [
              "<div>\n",
              "<style scoped>\n",
              "    .dataframe tbody tr th:only-of-type {\n",
              "        vertical-align: middle;\n",
              "    }\n",
              "\n",
              "    .dataframe tbody tr th {\n",
              "        vertical-align: top;\n",
              "    }\n",
              "\n",
              "    .dataframe thead th {\n",
              "        text-align: right;\n",
              "    }\n",
              "</style>\n",
              "<table border=\"1\" class=\"dataframe\">\n",
              "  <thead>\n",
              "    <tr style=\"text-align: right;\">\n",
              "      <th></th>\n",
              "      <th>id</th>\n",
              "      <th>player</th>\n",
              "      <th>year</th>\n",
              "      <th>stint</th>\n",
              "      <th>team</th>\n",
              "      <th>lg</th>\n",
              "      <th>g</th>\n",
              "      <th>ab</th>\n",
              "      <th>r</th>\n",
              "      <th>h</th>\n",
              "      <th>X2b</th>\n",
              "      <th>X3b</th>\n",
              "      <th>hr</th>\n",
              "      <th>rbi</th>\n",
              "      <th>sb</th>\n",
              "      <th>cs</th>\n",
              "      <th>bb</th>\n",
              "      <th>so</th>\n",
              "      <th>ibb</th>\n",
              "      <th>hbp</th>\n",
              "      <th>sh</th>\n",
              "      <th>sf</th>\n",
              "      <th>gidp</th>\n",
              "    </tr>\n",
              "  </thead>\n",
              "  <tbody>\n",
              "    <tr>\n",
              "      <th>97</th>\n",
              "      <td>89530</td>\n",
              "      <td>ausmubr01</td>\n",
              "      <td>2007</td>\n",
              "      <td>1</td>\n",
              "      <td>HOU</td>\n",
              "      <td>NL</td>\n",
              "      <td>117</td>\n",
              "      <td>349</td>\n",
              "      <td>38</td>\n",
              "      <td>82</td>\n",
              "      <td>16</td>\n",
              "      <td>3</td>\n",
              "      <td>3</td>\n",
              "      <td>25.0</td>\n",
              "      <td>6.0</td>\n",
              "      <td>1.0</td>\n",
              "      <td>37</td>\n",
              "      <td>74.0</td>\n",
              "      <td>3.0</td>\n",
              "      <td>6.0</td>\n",
              "      <td>4.0</td>\n",
              "      <td>1.0</td>\n",
              "      <td>11.0</td>\n",
              "    </tr>\n",
              "    <tr>\n",
              "      <th>98</th>\n",
              "      <td>89533</td>\n",
              "      <td>aloumo01</td>\n",
              "      <td>2007</td>\n",
              "      <td>1</td>\n",
              "      <td>NYN</td>\n",
              "      <td>NL</td>\n",
              "      <td>87</td>\n",
              "      <td>328</td>\n",
              "      <td>51</td>\n",
              "      <td>112</td>\n",
              "      <td>19</td>\n",
              "      <td>1</td>\n",
              "      <td>13</td>\n",
              "      <td>49.0</td>\n",
              "      <td>3.0</td>\n",
              "      <td>0.0</td>\n",
              "      <td>27</td>\n",
              "      <td>30.0</td>\n",
              "      <td>5.0</td>\n",
              "      <td>2.0</td>\n",
              "      <td>0.0</td>\n",
              "      <td>3.0</td>\n",
              "      <td>13.0</td>\n",
              "    </tr>\n",
              "    <tr>\n",
              "      <th>99</th>\n",
              "      <td>89534</td>\n",
              "      <td>alomasa02</td>\n",
              "      <td>2007</td>\n",
              "      <td>1</td>\n",
              "      <td>NYN</td>\n",
              "      <td>NL</td>\n",
              "      <td>8</td>\n",
              "      <td>22</td>\n",
              "      <td>1</td>\n",
              "      <td>3</td>\n",
              "      <td>1</td>\n",
              "      <td>0</td>\n",
              "      <td>0</td>\n",
              "      <td>0.0</td>\n",
              "      <td>0.0</td>\n",
              "      <td>0.0</td>\n",
              "      <td>0</td>\n",
              "      <td>3.0</td>\n",
              "      <td>0.0</td>\n",
              "      <td>0.0</td>\n",
              "      <td>0.0</td>\n",
              "      <td>0.0</td>\n",
              "      <td>0.0</td>\n",
              "    </tr>\n",
              "  </tbody>\n",
              "</table>\n",
              "</div>"
            ],
            "text/plain": [
              "       id     player  year  stint team  lg  ...    so  ibb  hbp   sh   sf  gidp\n",
              "97  89530  ausmubr01  2007      1  HOU  NL  ...  74.0  3.0  6.0  4.0  1.0  11.0\n",
              "98  89533   aloumo01  2007      1  NYN  NL  ...  30.0  5.0  2.0  0.0  3.0  13.0\n",
              "99  89534  alomasa02  2007      1  NYN  NL  ...   3.0  0.0  0.0  0.0  0.0   0.0\n",
              "\n",
              "[3 rows x 23 columns]"
            ]
          },
          "execution_count": 37,
          "metadata": {
            "tags": []
          },
          "output_type": "execute_result"
        }
      ],
      "source": [
        "data.tail(3)"
      ]
    },
    {
      "cell_type": "markdown",
      "metadata": {
        "id": "m-2DF1y0_FAV"
      },
      "source": [
        "\n",
        "\n",
        "Devuelve un resumen estadístico de las variables"
      ]
    },
    {
      "cell_type": "code",
      "execution_count": null,
      "metadata": {
        "colab": {
          "base_uri": "https://localhost:8080/",
          "height": 398
        },
        "id": "ItU8LQKX_FAW",
        "outputId": "860349b8-e85e-4fd0-fdab-7966bc8ba726"
      },
      "outputs": [
        {
          "data": {
            "text/html": [
              "<div>\n",
              "<style scoped>\n",
              "    .dataframe tbody tr th:only-of-type {\n",
              "        vertical-align: middle;\n",
              "    }\n",
              "\n",
              "    .dataframe tbody tr th {\n",
              "        vertical-align: top;\n",
              "    }\n",
              "\n",
              "    .dataframe thead th {\n",
              "        text-align: right;\n",
              "    }\n",
              "</style>\n",
              "<table border=\"1\" class=\"dataframe\">\n",
              "  <thead>\n",
              "    <tr style=\"text-align: right;\">\n",
              "      <th></th>\n",
              "      <th>id</th>\n",
              "      <th>player</th>\n",
              "      <th>year</th>\n",
              "      <th>stint</th>\n",
              "      <th>team</th>\n",
              "      <th>lg</th>\n",
              "      <th>g</th>\n",
              "      <th>ab</th>\n",
              "      <th>r</th>\n",
              "      <th>h</th>\n",
              "      <th>X2b</th>\n",
              "      <th>X3b</th>\n",
              "      <th>hr</th>\n",
              "      <th>rbi</th>\n",
              "      <th>sb</th>\n",
              "      <th>cs</th>\n",
              "      <th>bb</th>\n",
              "      <th>so</th>\n",
              "      <th>ibb</th>\n",
              "      <th>hbp</th>\n",
              "      <th>sh</th>\n",
              "      <th>sf</th>\n",
              "      <th>gidp</th>\n",
              "    </tr>\n",
              "  </thead>\n",
              "  <tbody>\n",
              "    <tr>\n",
              "      <th>count</th>\n",
              "      <td>100.000000</td>\n",
              "      <td>100</td>\n",
              "      <td>100.00000</td>\n",
              "      <td>100.000000</td>\n",
              "      <td>100</td>\n",
              "      <td>100</td>\n",
              "      <td>100.000000</td>\n",
              "      <td>100.000000</td>\n",
              "      <td>100.00000</td>\n",
              "      <td>100.000000</td>\n",
              "      <td>100.000000</td>\n",
              "      <td>100.000000</td>\n",
              "      <td>100.000000</td>\n",
              "      <td>100.00000</td>\n",
              "      <td>100.000000</td>\n",
              "      <td>100.000000</td>\n",
              "      <td>100.000000</td>\n",
              "      <td>100.000000</td>\n",
              "      <td>100.000000</td>\n",
              "      <td>100.00000</td>\n",
              "      <td>100.000000</td>\n",
              "      <td>100.000000</td>\n",
              "      <td>100.000000</td>\n",
              "    </tr>\n",
              "    <tr>\n",
              "      <th>unique</th>\n",
              "      <td>NaN</td>\n",
              "      <td>82</td>\n",
              "      <td>NaN</td>\n",
              "      <td>NaN</td>\n",
              "      <td>27</td>\n",
              "      <td>2</td>\n",
              "      <td>NaN</td>\n",
              "      <td>NaN</td>\n",
              "      <td>NaN</td>\n",
              "      <td>NaN</td>\n",
              "      <td>NaN</td>\n",
              "      <td>NaN</td>\n",
              "      <td>NaN</td>\n",
              "      <td>NaN</td>\n",
              "      <td>NaN</td>\n",
              "      <td>NaN</td>\n",
              "      <td>NaN</td>\n",
              "      <td>NaN</td>\n",
              "      <td>NaN</td>\n",
              "      <td>NaN</td>\n",
              "      <td>NaN</td>\n",
              "      <td>NaN</td>\n",
              "      <td>NaN</td>\n",
              "    </tr>\n",
              "    <tr>\n",
              "      <th>top</th>\n",
              "      <td>NaN</td>\n",
              "      <td>trachst01</td>\n",
              "      <td>NaN</td>\n",
              "      <td>NaN</td>\n",
              "      <td>NYN</td>\n",
              "      <td>NL</td>\n",
              "      <td>NaN</td>\n",
              "      <td>NaN</td>\n",
              "      <td>NaN</td>\n",
              "      <td>NaN</td>\n",
              "      <td>NaN</td>\n",
              "      <td>NaN</td>\n",
              "      <td>NaN</td>\n",
              "      <td>NaN</td>\n",
              "      <td>NaN</td>\n",
              "      <td>NaN</td>\n",
              "      <td>NaN</td>\n",
              "      <td>NaN</td>\n",
              "      <td>NaN</td>\n",
              "      <td>NaN</td>\n",
              "      <td>NaN</td>\n",
              "      <td>NaN</td>\n",
              "      <td>NaN</td>\n",
              "    </tr>\n",
              "    <tr>\n",
              "      <th>freq</th>\n",
              "      <td>NaN</td>\n",
              "      <td>2</td>\n",
              "      <td>NaN</td>\n",
              "      <td>NaN</td>\n",
              "      <td>12</td>\n",
              "      <td>62</td>\n",
              "      <td>NaN</td>\n",
              "      <td>NaN</td>\n",
              "      <td>NaN</td>\n",
              "      <td>NaN</td>\n",
              "      <td>NaN</td>\n",
              "      <td>NaN</td>\n",
              "      <td>NaN</td>\n",
              "      <td>NaN</td>\n",
              "      <td>NaN</td>\n",
              "      <td>NaN</td>\n",
              "      <td>NaN</td>\n",
              "      <td>NaN</td>\n",
              "      <td>NaN</td>\n",
              "      <td>NaN</td>\n",
              "      <td>NaN</td>\n",
              "      <td>NaN</td>\n",
              "      <td>NaN</td>\n",
              "    </tr>\n",
              "    <tr>\n",
              "      <th>mean</th>\n",
              "      <td>89352.660000</td>\n",
              "      <td>NaN</td>\n",
              "      <td>2006.92000</td>\n",
              "      <td>1.130000</td>\n",
              "      <td>NaN</td>\n",
              "      <td>NaN</td>\n",
              "      <td>52.380000</td>\n",
              "      <td>136.540000</td>\n",
              "      <td>18.69000</td>\n",
              "      <td>35.820000</td>\n",
              "      <td>7.390000</td>\n",
              "      <td>0.550000</td>\n",
              "      <td>4.370000</td>\n",
              "      <td>18.47000</td>\n",
              "      <td>1.380000</td>\n",
              "      <td>0.460000</td>\n",
              "      <td>15.490000</td>\n",
              "      <td>24.080000</td>\n",
              "      <td>1.770000</td>\n",
              "      <td>1.12000</td>\n",
              "      <td>1.380000</td>\n",
              "      <td>1.200000</td>\n",
              "      <td>3.540000</td>\n",
              "    </tr>\n",
              "    <tr>\n",
              "      <th>std</th>\n",
              "      <td>218.910859</td>\n",
              "      <td>NaN</td>\n",
              "      <td>0.27266</td>\n",
              "      <td>0.337998</td>\n",
              "      <td>NaN</td>\n",
              "      <td>NaN</td>\n",
              "      <td>48.031299</td>\n",
              "      <td>181.936853</td>\n",
              "      <td>27.77496</td>\n",
              "      <td>50.221807</td>\n",
              "      <td>11.117277</td>\n",
              "      <td>1.445124</td>\n",
              "      <td>7.975537</td>\n",
              "      <td>28.34793</td>\n",
              "      <td>3.694878</td>\n",
              "      <td>1.067613</td>\n",
              "      <td>25.812649</td>\n",
              "      <td>32.804496</td>\n",
              "      <td>5.042957</td>\n",
              "      <td>2.23055</td>\n",
              "      <td>2.919042</td>\n",
              "      <td>2.035046</td>\n",
              "      <td>5.201826</td>\n",
              "    </tr>\n",
              "    <tr>\n",
              "      <th>min</th>\n",
              "      <td>88641.000000</td>\n",
              "      <td>NaN</td>\n",
              "      <td>2006.00000</td>\n",
              "      <td>1.000000</td>\n",
              "      <td>NaN</td>\n",
              "      <td>NaN</td>\n",
              "      <td>1.000000</td>\n",
              "      <td>0.000000</td>\n",
              "      <td>0.00000</td>\n",
              "      <td>0.000000</td>\n",
              "      <td>0.000000</td>\n",
              "      <td>0.000000</td>\n",
              "      <td>0.000000</td>\n",
              "      <td>0.00000</td>\n",
              "      <td>0.000000</td>\n",
              "      <td>0.000000</td>\n",
              "      <td>0.000000</td>\n",
              "      <td>0.000000</td>\n",
              "      <td>0.000000</td>\n",
              "      <td>0.00000</td>\n",
              "      <td>0.000000</td>\n",
              "      <td>0.000000</td>\n",
              "      <td>0.000000</td>\n",
              "    </tr>\n",
              "    <tr>\n",
              "      <th>25%</th>\n",
              "      <td>89353.500000</td>\n",
              "      <td>NaN</td>\n",
              "      <td>2007.00000</td>\n",
              "      <td>1.000000</td>\n",
              "      <td>NaN</td>\n",
              "      <td>NaN</td>\n",
              "      <td>9.500000</td>\n",
              "      <td>2.000000</td>\n",
              "      <td>0.00000</td>\n",
              "      <td>0.000000</td>\n",
              "      <td>0.000000</td>\n",
              "      <td>0.000000</td>\n",
              "      <td>0.000000</td>\n",
              "      <td>0.00000</td>\n",
              "      <td>0.000000</td>\n",
              "      <td>0.000000</td>\n",
              "      <td>0.000000</td>\n",
              "      <td>1.000000</td>\n",
              "      <td>0.000000</td>\n",
              "      <td>0.00000</td>\n",
              "      <td>0.000000</td>\n",
              "      <td>0.000000</td>\n",
              "      <td>0.000000</td>\n",
              "    </tr>\n",
              "    <tr>\n",
              "      <th>50%</th>\n",
              "      <td>89399.000000</td>\n",
              "      <td>NaN</td>\n",
              "      <td>2007.00000</td>\n",
              "      <td>1.000000</td>\n",
              "      <td>NaN</td>\n",
              "      <td>NaN</td>\n",
              "      <td>33.000000</td>\n",
              "      <td>40.500000</td>\n",
              "      <td>2.00000</td>\n",
              "      <td>8.000000</td>\n",
              "      <td>1.000000</td>\n",
              "      <td>0.000000</td>\n",
              "      <td>0.000000</td>\n",
              "      <td>2.00000</td>\n",
              "      <td>0.000000</td>\n",
              "      <td>0.000000</td>\n",
              "      <td>1.000000</td>\n",
              "      <td>7.000000</td>\n",
              "      <td>0.000000</td>\n",
              "      <td>0.00000</td>\n",
              "      <td>0.000000</td>\n",
              "      <td>0.000000</td>\n",
              "      <td>1.000000</td>\n",
              "    </tr>\n",
              "    <tr>\n",
              "      <th>75%</th>\n",
              "      <td>89465.250000</td>\n",
              "      <td>NaN</td>\n",
              "      <td>2007.00000</td>\n",
              "      <td>1.000000</td>\n",
              "      <td>NaN</td>\n",
              "      <td>NaN</td>\n",
              "      <td>83.250000</td>\n",
              "      <td>243.750000</td>\n",
              "      <td>33.25000</td>\n",
              "      <td>62.750000</td>\n",
              "      <td>11.750000</td>\n",
              "      <td>1.000000</td>\n",
              "      <td>6.000000</td>\n",
              "      <td>27.00000</td>\n",
              "      <td>1.000000</td>\n",
              "      <td>0.000000</td>\n",
              "      <td>19.250000</td>\n",
              "      <td>37.250000</td>\n",
              "      <td>1.250000</td>\n",
              "      <td>1.00000</td>\n",
              "      <td>1.000000</td>\n",
              "      <td>2.000000</td>\n",
              "      <td>6.000000</td>\n",
              "    </tr>\n",
              "    <tr>\n",
              "      <th>max</th>\n",
              "      <td>89534.000000</td>\n",
              "      <td>NaN</td>\n",
              "      <td>2007.00000</td>\n",
              "      <td>2.000000</td>\n",
              "      <td>NaN</td>\n",
              "      <td>NaN</td>\n",
              "      <td>155.000000</td>\n",
              "      <td>586.000000</td>\n",
              "      <td>107.00000</td>\n",
              "      <td>159.000000</td>\n",
              "      <td>52.000000</td>\n",
              "      <td>12.000000</td>\n",
              "      <td>35.000000</td>\n",
              "      <td>96.00000</td>\n",
              "      <td>22.000000</td>\n",
              "      <td>6.000000</td>\n",
              "      <td>132.000000</td>\n",
              "      <td>134.000000</td>\n",
              "      <td>43.000000</td>\n",
              "      <td>11.00000</td>\n",
              "      <td>14.000000</td>\n",
              "      <td>9.000000</td>\n",
              "      <td>21.000000</td>\n",
              "    </tr>\n",
              "  </tbody>\n",
              "</table>\n",
              "</div>"
            ],
            "text/plain": [
              "                  id     player        year  ...          sh          sf        gidp\n",
              "count     100.000000        100   100.00000  ...  100.000000  100.000000  100.000000\n",
              "unique           NaN         82         NaN  ...         NaN         NaN         NaN\n",
              "top              NaN  trachst01         NaN  ...         NaN         NaN         NaN\n",
              "freq             NaN          2         NaN  ...         NaN         NaN         NaN\n",
              "mean    89352.660000        NaN  2006.92000  ...    1.380000    1.200000    3.540000\n",
              "std       218.910859        NaN     0.27266  ...    2.919042    2.035046    5.201826\n",
              "min     88641.000000        NaN  2006.00000  ...    0.000000    0.000000    0.000000\n",
              "25%     89353.500000        NaN  2007.00000  ...    0.000000    0.000000    0.000000\n",
              "50%     89399.000000        NaN  2007.00000  ...    0.000000    0.000000    1.000000\n",
              "75%     89465.250000        NaN  2007.00000  ...    1.000000    2.000000    6.000000\n",
              "max     89534.000000        NaN  2007.00000  ...   14.000000    9.000000   21.000000\n",
              "\n",
              "[11 rows x 23 columns]"
            ]
          },
          "execution_count": 38,
          "metadata": {
            "tags": []
          },
          "output_type": "execute_result"
        }
      ],
      "source": [
        "data.describe(include='all')"
      ]
    },
    {
      "cell_type": "markdown",
      "metadata": {
        "id": "7rcuktrd_FAY"
      },
      "source": [
        "\n",
        "\n",
        "Devuelve un resumen de la estructura"
      ]
    },
    {
      "cell_type": "code",
      "execution_count": null,
      "metadata": {
        "colab": {
          "base_uri": "https://localhost:8080/"
        },
        "id": "4hH_xdmw_FAZ",
        "outputId": "36f9af0c-b597-4f09-85ea-0828d7707938"
      },
      "outputs": [
        {
          "data": {
            "text/plain": [
              "id          int64\n",
              "player     object\n",
              "year        int64\n",
              "stint       int64\n",
              "team       object\n",
              "lg         object\n",
              "g           int64\n",
              "ab          int64\n",
              "r           int64\n",
              "h           int64\n",
              "X2b         int64\n",
              "X3b         int64\n",
              "hr          int64\n",
              "rbi       float64\n",
              "sb        float64\n",
              "cs        float64\n",
              "bb          int64\n",
              "so        float64\n",
              "ibb       float64\n",
              "hbp       float64\n",
              "sh        float64\n",
              "sf        float64\n",
              "gidp      float64\n",
              "dtype: object"
            ]
          },
          "execution_count": 39,
          "metadata": {
            "tags": []
          },
          "output_type": "execute_result"
        }
      ],
      "source": [
        "data.dtypes"
      ]
    },
    {
      "cell_type": "markdown",
      "metadata": {
        "id": "oH1BTbFz_FAb"
      },
      "source": [
        "Devuelve una lista con las etiquetas de las columnas y de las filas"
      ]
    },
    {
      "cell_type": "code",
      "execution_count": null,
      "metadata": {
        "colab": {
          "base_uri": "https://localhost:8080/"
        },
        "id": "kdxMQED1_FAb",
        "outputId": "e352fecb-b0f0-4bee-ac1b-2c65cc4b3882"
      },
      "outputs": [
        {
          "data": {
            "text/plain": [
              "[RangeIndex(start=0, stop=100, step=1),\n",
              " Index(['id', 'player', 'year', 'stint', 'team', 'lg', 'g', 'ab', 'r', 'h',\n",
              "        'X2b', 'X3b', 'hr', 'rbi', 'sb', 'cs', 'bb', 'so', 'ibb', 'hbp', 'sh',\n",
              "        'sf', 'gidp'],\n",
              "       dtype='object')]"
            ]
          },
          "execution_count": 40,
          "metadata": {
            "tags": []
          },
          "output_type": "execute_result"
        }
      ],
      "source": [
        "data.axes"
      ]
    },
    {
      "cell_type": "markdown",
      "metadata": {
        "id": "0EgRB8Wd_FAe"
      },
      "source": [
        "\n",
        "\n",
        "Devuelve el número de elementos únicos por campo"
      ]
    },
    {
      "cell_type": "code",
      "execution_count": null,
      "metadata": {
        "colab": {
          "base_uri": "https://localhost:8080/"
        },
        "id": "32eMpTNL_FAf",
        "outputId": "3bda5093-7b52-44ed-9900-c62e6b7379c2"
      },
      "outputs": [
        {
          "data": {
            "text/plain": [
              "id        100\n",
              "player     82\n",
              "year        2\n",
              "stint       2\n",
              "team       27\n",
              "lg          2\n",
              "g          60\n",
              "ab         63\n",
              "r          38\n",
              "h          46\n",
              "X2b        28\n",
              "X3b         5\n",
              "hr         22\n",
              "rbi        43\n",
              "sb         12\n",
              "cs          7\n",
              "bb         40\n",
              "so         47\n",
              "ibb        13\n",
              "hbp        10\n",
              "sh         14\n",
              "sf          9\n",
              "gidp       17\n",
              "dtype: int64"
            ]
          },
          "execution_count": 41,
          "metadata": {
            "tags": []
          },
          "output_type": "execute_result"
        }
      ],
      "source": [
        "data.nunique()"
      ]
    },
    {
      "cell_type": "markdown",
      "metadata": {
        "id": "m6hSU9G2_FAg"
      },
      "source": [
        "\n",
        "\n",
        "# Ejercicios\n",
        "\n",
        "Considere el siguiente diccionario `data` y lista de `index`"
      ]
    },
    {
      "cell_type": "code",
      "execution_count": null,
      "metadata": {
        "id": "Xajzv6Od_FAh"
      },
      "outputs": [],
      "source": [
        "data = {'animal': ['cat', 'cat', 'snake', 'dog', 'dog', 'cat', 'snake', 'cat', 'dog', 'dog'],\n",
        "        'age': [2.5, 3, 0.5, np.nan, 5, 2, 4.5, np.nan, 7, 3],\n",
        "        'visits': [1, 3, 2, 3, 2, 3, 1, 1, 2, 1],\n",
        "        'priority': ['yes', 'yes', 'no', 'yes', 'no', 'no', 'no', 'yes', 'no', 'no']}\n",
        "\n",
        "labels = ['a', 'b', 'c', 'd', 'e', 'f', 'g', 'h', 'i', 'j']"
      ]
    },
    {
      "cell_type": "markdown",
      "metadata": {
        "id": "C6rUtL8b_FAj"
      },
      "source": [
        "\n",
        "\n",
        "- a. Crea un DataFrame a partir del diccionario y los índices.\n",
        "- b. Selecciona las columnas `animal`y `age`.\n",
        "- c. Indique cuantos tipos distintos de animales hay.\n",
        "- d. Indique cuantos animales hay de cada tipo.\n",
        "- e. Muestre un resumen estadístico de todas las variables."
      ]
    },
    {
      "cell_type": "markdown",
      "metadata": {
        "id": "E7b3KIYB_FAj"
      },
      "source": [
        "\n",
        "\n",
        "##### Procesamiento"
      ]
    },
    {
      "cell_type": "markdown",
      "metadata": {
        "id": "KQhe9Qla_FAj"
      },
      "source": [
        "###### **Group By**\n",
        "\n",
        "Cualquier operación groupby implica una de las siguientes operaciones en el objeto original. ellos son -\n",
        "\n",
        "* Dividir el objeto\n",
        "* Aplicar una función\n",
        "* Combinando los resultados\n",
        "\n",
        "En muchas situaciones, dividimos los datos en conjuntos y aplicamos alguna funcionalidad en cada subconjunto. En la funcionalidad de aplicación, podemos realizar las siguientes operaciones:\n",
        "\n",
        "* Agregación : cálculo de una estadística de resumen\n",
        "* Transformación : realizar alguna operación específica del grupo\n",
        "* Filtración : descartar los datos con alguna condición.\n",
        "\n",
        "Ahora creemos un objeto DataFrame y realicemos todas las operaciones en él:"
      ]
    },
    {
      "cell_type": "code",
      "execution_count": 2,
      "metadata": {
        "colab": {
          "base_uri": "https://localhost:8080/"
        },
        "id": "hyULTzRoFqpw",
        "outputId": "9011d8bd-37b4-4d0f-8c56-2d4e7c552727"
      },
      "outputs": [
        {
          "name": "stdout",
          "output_type": "stream",
          "text": [
            "      Team  Rank  Year  Points\n",
            "0   Riders     1  2014     876\n",
            "1   Riders     2  2015     789\n",
            "2   Devils     2  2014     863\n",
            "3   Devils     3  2015     673\n",
            "4    Kings     3  2014     741\n",
            "5    kings     4  2015     812\n",
            "6    Kings     1  2016     756\n",
            "7    Kings     1  2017     788\n",
            "8   Riders     2  2016     694\n",
            "9   Royals     4  2014     701\n",
            "10  Royals     1  2015     804\n",
            "11  Riders     2  2017     690\n"
          ]
        }
      ],
      "source": [
        "#import the pandas library\n",
        "import pandas as pd\n",
        "\n",
        "ipl_data = {'Team': ['Riders', 'Riders', 'Devils', 'Devils', 'Kings',\n",
        "   'kings', 'Kings', 'Kings', 'Riders', 'Royals', 'Royals', 'Riders'],\n",
        "   'Rank': [1, 2, 2, 3, 3,4 ,1 ,1,2 , 4,1,2],\n",
        "   'Year': [2014,2015,2014,2015,2014,2015,2016,2017,2016,2014,2015,2017],\n",
        "   'Points':[876,789,863,673,741,812,756,788,694,701,804,690]}\n",
        "df = pd.DataFrame(ipl_data)\n",
        "\n",
        "print(df)"
      ]
    },
    {
      "cell_type": "markdown",
      "metadata": {
        "id": "K1m34ImUF6QD"
      },
      "source": [
        "**Dividir datos en grupos**\n",
        "\n",
        "El objeto Pandas se puede dividir en cualquiera de sus objetos. Hay varias formas de dividir un objeto como:\n",
        "\n",
        "* obj.groupby('clave')\n",
        "* obj.groupby(['clave1','clave2'])\n",
        "* obj.groupby(clave,eje=1)\n",
        "\n",
        "Veamos ahora cómo se pueden aplicar los objetos de agrupación al objeto DataFram"
      ]
    },
    {
      "cell_type": "code",
      "execution_count": 5,
      "metadata": {
        "colab": {
          "base_uri": "https://localhost:8080/"
        },
        "id": "cSfwRSZCGHun",
        "outputId": "628f9ed6-dba4-4b44-f342-1feb0c19b853"
      },
      "outputs": [
        {
          "name": "stdout",
          "output_type": "stream",
          "text": [
            "{'Devils': [2, 3], 'Kings': [4, 6, 7], 'Riders': [0, 1, 8, 11], 'Royals': [9, 10], 'kings': [5]}\n"
          ]
        }
      ],
      "source": [
        "# import the pandas library\n",
        "import pandas as pd\n",
        "\n",
        "ipl_data = {'Team': ['Riders', 'Riders', 'Devils', 'Devils', 'Kings',\n",
        "   'kings', 'Kings', 'Kings', 'Riders', 'Royals', 'Royals', 'Riders'],\n",
        "   'Rank': [1, 2, 2, 3, 3,4 ,1 ,1,2 , 4,1,2],\n",
        "   'Year': [2014,2015,2014,2015,2014,2015,2016,2017,2016,2014,2015,2017],\n",
        "   'Points':[876,789,863,673,741,812,756,788,694,701,804,690]}\n",
        "df = pd.DataFrame(ipl_data)\n",
        "\n",
        "print(df.groupby('Team').groups)"
      ]
    },
    {
      "cell_type": "markdown",
      "metadata": {
        "id": "EIrgXEAZGonT"
      },
      "source": [
        "**Agrupar por con múltiples columnas**"
      ]
    },
    {
      "cell_type": "code",
      "execution_count": 7,
      "metadata": {
        "colab": {
          "base_uri": "https://localhost:8080/"
        },
        "id": "FM6eCBZEGp3v",
        "outputId": "1ae4ba36-736c-474c-ec94-eec36192c618"
      },
      "outputs": [
        {
          "name": "stdout",
          "output_type": "stream",
          "text": [
            "{('Devils', 2014): [2], ('Devils', 2015): [3], ('Kings', 2014): [4], ('Kings', 2016): [6], ('Kings', 2017): [7], ('Riders', 2014): [0], ('Riders', 2015): [1], ('Riders', 2016): [8], ('Riders', 2017): [11], ('Royals', 2014): [9], ('Royals', 2015): [10], ('kings', 2015): [5]}\n"
          ]
        }
      ],
      "source": [
        "# import the pandas library\n",
        "import pandas as pd\n",
        "\n",
        "ipl_data = {'Team': ['Riders', 'Riders', 'Devils', 'Devils', 'Kings',\n",
        "   'kings', 'Kings', 'Kings', 'Riders', 'Royals', 'Royals', 'Riders'],\n",
        "   'Rank': [1, 2, 2, 3, 3,4 ,1 ,1,2 , 4,1,2],\n",
        "   'Year': [2014,2015,2014,2015,2014,2015,2016,2017,2016,2014,2015,2017],\n",
        "   'Points':[876,789,863,673,741,812,756,788,694,701,804,690]}\n",
        "df = pd.DataFrame(ipl_data)\n",
        "\n",
        "print(df.groupby(['Team','Year']).groups)"
      ]
    },
    {
      "cell_type": "markdown",
      "metadata": {
        "id": "AaQgZtlOH4d3"
      },
      "source": [
        "**Iterando a través de Grupos**\n",
        "Con el objeto groupby en la mano, podemos iterar a través del objeto de forma similar a itertools.obj."
      ]
    },
    {
      "cell_type": "code",
      "execution_count": 8,
      "metadata": {
        "colab": {
          "base_uri": "https://localhost:8080/"
        },
        "id": "TEQSMLC3H_v4",
        "outputId": "9ea016ff-5219-4bce-aac8-1ada2788464e"
      },
      "outputs": [
        {
          "name": "stdout",
          "output_type": "stream",
          "text": [
            "2014\n",
            "     Team  Rank  Year  Points\n",
            "0  Riders     1  2014     876\n",
            "2  Devils     2  2014     863\n",
            "4   Kings     3  2014     741\n",
            "9  Royals     4  2014     701\n",
            "2015\n",
            "      Team  Rank  Year  Points\n",
            "1   Riders     2  2015     789\n",
            "3   Devils     3  2015     673\n",
            "5    kings     4  2015     812\n",
            "10  Royals     1  2015     804\n",
            "2016\n",
            "     Team  Rank  Year  Points\n",
            "6   Kings     1  2016     756\n",
            "8  Riders     2  2016     694\n",
            "2017\n",
            "      Team  Rank  Year  Points\n",
            "7    Kings     1  2017     788\n",
            "11  Riders     2  2017     690\n"
          ]
        }
      ],
      "source": [
        "# import the pandas library\n",
        "import pandas as pd\n",
        "\n",
        "ipl_data = {'Team': ['Riders', 'Riders', 'Devils', 'Devils', 'Kings',\n",
        "   'kings', 'Kings', 'Kings', 'Riders', 'Royals', 'Royals', 'Riders'],\n",
        "   'Rank': [1, 2, 2, 3, 3,4 ,1 ,1,2 , 4,1,2],\n",
        "   'Year': [2014,2015,2014,2015,2014,2015,2016,2017,2016,2014,2015,2017],\n",
        "   'Points':[876,789,863,673,741,812,756,788,694,701,804,690]}\n",
        "df = pd.DataFrame(ipl_data)\n",
        "\n",
        "grouped = df.groupby('Year')\n",
        "\n",
        "for name,group in grouped:\n",
        "   print(name)\n",
        "   print(group)"
      ]
    },
    {
      "cell_type": "markdown",
      "metadata": {
        "id": "ej2tw4BDIzA0"
      },
      "source": [
        "**Seleccione un grupo**\n",
        "Usando el método get_group() , podemos seleccionar un solo grupo."
      ]
    },
    {
      "cell_type": "code",
      "execution_count": 11,
      "metadata": {
        "colab": {
          "base_uri": "https://localhost:8080/"
        },
        "id": "CLwu-O3-I1rf",
        "outputId": "5b419dc5-6974-449f-a904-45d136457d29"
      },
      "outputs": [
        {
          "name": "stdout",
          "output_type": "stream",
          "text": [
            "     Team  Rank  Year  Points\n",
            "0  Riders     1  2014     876\n",
            "2  Devils     2  2014     863\n",
            "4   Kings     3  2014     741\n",
            "9  Royals     4  2014     701 <class 'pandas.core.frame.DataFrame'>\n"
          ]
        }
      ],
      "source": [
        "# import the pandas library\n",
        "import pandas as pd\n",
        "\n",
        "ipl_data = {'Team': ['Riders', 'Riders', 'Devils', 'Devils', 'Kings',\n",
        "   'kings', 'Kings', 'Kings', 'Riders', 'Royals', 'Royals', 'Riders'],\n",
        "   'Rank': [1, 2, 2, 3, 3,4 ,1 ,1,2 , 4,1,2],\n",
        "   'Year': [2014,2015,2014,2015,2014,2015,2016,2017,2016,2014,2015,2017],\n",
        "   'Points':[876,789,863,673,741,812,756,788,694,701,804,690]}\n",
        "df = pd.DataFrame(ipl_data)\n",
        "\n",
        "grouped = df.groupby('Year')\n",
        "print (grouped.get_group(2014))"
      ]
    },
    {
      "cell_type": "markdown",
      "metadata": {
        "id": "WB_0HLsBJPpe"
      },
      "source": [
        "Aplicar múltiples funciones de agregación a la vez\n",
        "Con Series agrupadas, también puede pasar una lista o dictado de funciones para hacer agregaciones y generar DataFrame como salida:"
      ]
    },
    {
      "cell_type": "code",
      "execution_count": 12,
      "metadata": {
        "colab": {
          "base_uri": "https://localhost:8080/"
        },
        "id": "zSsoWByzJRA5",
        "outputId": "2f7a1ab4-5cc8-470f-c871-2cc61f62a4a9"
      },
      "outputs": [
        {
          "name": "stdout",
          "output_type": "stream",
          "text": [
            "         sum        mean         std\n",
            "Team                                \n",
            "Devils  1536  768.000000  134.350288\n",
            "Kings   2285  761.666667   24.006943\n",
            "Riders  3049  762.250000   88.567771\n",
            "Royals  1505  752.500000   72.831998\n",
            "kings    812  812.000000         NaN\n"
          ]
        }
      ],
      "source": [
        "# import the pandas library\n",
        "import pandas as pd\n",
        "import numpy as np\n",
        "\n",
        "ipl_data = {'Team': ['Riders', 'Riders', 'Devils', 'Devils', 'Kings',\n",
        "   'kings', 'Kings', 'Kings', 'Riders', 'Royals', 'Royals', 'Riders'],\n",
        "   'Rank': [1, 2, 2, 3, 3,4 ,1 ,1,2 , 4,1,2],\n",
        "   'Year': [2014,2015,2014,2015,2014,2015,2016,2017,2016,2014,2015,2017],\n",
        "   'Points':[876,789,863,673,741,812,756,788,694,701,804,690]}\n",
        "df = pd.DataFrame(ipl_data)\n",
        "\n",
        "grouped = df.groupby('Team')\n",
        "print (grouped['Points'].agg([np.sum, np.mean, np.std]))"
      ]
    },
    {
      "cell_type": "markdown",
      "metadata": {
        "id": "pxUIvEM2JgY6"
      },
      "source": [
        "###### **Merging/Joining**\n",
        "Pandas tiene operaciones de unión en memoria de alto rendimiento y con todas las funciones, idiomáticamente muy similares a las bases de datos relacionales como SQL.\n",
        "\n",
        "Pandas proporciona una sola función, merge , como punto de entrada para todas las operaciones estándar de combinación de bases de datos entre objetos DataFrame:\n",
        "\n",
        "<code>\n",
        "pd.merge(left, right, how='inner', on=None, left_on=None, right_on=None,\n",
        "left_index=False, right_index=False, sort=True)\n",
        "</code> "
      ]
    },
    {
      "cell_type": "markdown",
      "metadata": {
        "id": "gZxyO2unKlnY"
      },
      "source": [
        "Aquí, hemos utilizado los siguientes parámetros:\n",
        "\n",
        "* **left** : un objeto DataFrame.\n",
        "\n",
        "* **Right** − Otro objeto DataFrame.\n",
        "\n",
        "* **on** − Columnas (nombres) para unirse. Debe encontrarse en los objetos DataFrame izquierdo y derecho.\n",
        "\n",
        "* **left_on** : columnas del marco de datos izquierdo para usar como claves. Pueden ser nombres de columna o matrices con una longitud igual a la longitud del DataFrame.\n",
        "\n",
        "* **right_on** : columnas del DataFrame derecho para usar como claves. Pueden ser nombres de columna o matrices con una longitud igual a la longitud del DataFrame.\n",
        "\n",
        "* **left_index** : si es verdadero, use el índice (etiquetas de fila) del marco de datos izquierdo como su(s) clave(s) de unión. En el caso de un DataFrame con MultiIndex (jerárquico), el número de niveles debe coincidir con el número de claves de combinación del DataFrame derecho.\n",
        "\n",
        "* **right_index** : el mismo uso que left_index para el DataFrame derecho.\n",
        "\n",
        "* **how** − Uno de 'izquierda', 'derecha', 'exterior', 'interior'. El valor predeterminado es interior. Cada método se ha descrito a continuación.\n",
        "\n",
        "* **sort** − Ordena el DataFrame resultante por las claves de combinación en orden lexicográfico. El valor predeterminado es Verdadero, el establecimiento en Falso mejorará sustancialmente el rendimiento en muchos casos.\n",
        "\n",
        "Ahora vamos a crear dos DataFrames diferentes y realizar las operaciones de fusión en ellos."
      ]
    },
    {
      "cell_type": "code",
      "execution_count": 13,
      "metadata": {
        "colab": {
          "base_uri": "https://localhost:8080/"
        },
        "id": "J1nqhLaPLQNs",
        "outputId": "47ea0a4c-b471-4588-b150-7a0eb372088b"
      },
      "outputs": [
        {
          "name": "stdout",
          "output_type": "stream",
          "text": [
            "   id    Name subject_id\n",
            "0   1    Alex       sub1\n",
            "1   2     Amy       sub2\n",
            "2   3   Allen       sub4\n",
            "3   4   Alice       sub6\n",
            "4   5  Ayoung       sub5\n",
            "   id   Name subject_id\n",
            "0   1  Billy       sub2\n",
            "1   2  Brian       sub4\n",
            "2   3   Bran       sub3\n",
            "3   4  Bryce       sub6\n",
            "4   5  Betty       sub5\n"
          ]
        }
      ],
      "source": [
        "# import the pandas library\n",
        "import pandas as pd\n",
        "left = pd.DataFrame({\n",
        "   'id':[1,2,3,4,5],\n",
        "   'Name': ['Alex', 'Amy', 'Allen', 'Alice', 'Ayoung'],\n",
        "   'subject_id':['sub1','sub2','sub4','sub6','sub5']})\n",
        "right = pd.DataFrame(\n",
        "   {'id':[1,2,3,4,5],\n",
        "   'Name': ['Billy', 'Brian', 'Bran', 'Bryce', 'Betty'],\n",
        "   'subject_id':['sub2','sub4','sub3','sub6','sub5']})\n",
        "print(left)\n",
        "print(right)"
      ]
    },
    {
      "cell_type": "code",
      "execution_count": 15,
      "metadata": {
        "colab": {
          "base_uri": "https://localhost:8080/"
        },
        "id": "yhPSLMoKLYAM",
        "outputId": "a7115449-8b3e-4997-d2d2-85a28d8ba968"
      },
      "outputs": [
        {
          "name": "stdout",
          "output_type": "stream",
          "text": [
            "   id  Name_x subject_id_x Name_y subject_id_y\n",
            "0   1    Alex         sub1  Billy         sub2\n",
            "1   2     Amy         sub2  Brian         sub4\n",
            "2   3   Allen         sub4   Bran         sub3\n",
            "3   4   Alice         sub6  Bryce         sub6\n",
            "4   5  Ayoung         sub5  Betty         sub5\n"
          ]
        }
      ],
      "source": [
        "#Merge Two DataFrames on a Key\n",
        "import pandas as pd\n",
        "left = pd.DataFrame({\n",
        "   'id':[1,2,3,4,5],\n",
        "   'Name': ['Alex', 'Amy', 'Allen', 'Alice', 'Ayoung'],\n",
        "   'subject_id':['sub1','sub2','sub4','sub6','sub5']})\n",
        "right = pd.DataFrame({\n",
        "\t'id':[1,2,3,4,5],\n",
        "   'Name': ['Billy', 'Brian', 'Bran', 'Bryce', 'Betty'],\n",
        "   'subject_id':['sub2','sub4','sub3','sub6','sub5']})\n",
        "print (pd.merge(left,right,on='id'))"
      ]
    },
    {
      "cell_type": "markdown",
      "metadata": {
        "id": "9PfUz1HsLsel"
      },
      "source": [
        "**Fusionar usando el argumento 'how'**\n",
        "El argumento how para fusionar especifica cómo determinar qué claves se incluirán en la tabla resultante. Si una combinación de teclas no aparece en las tablas izquierda o derecha, los valores en la tabla unida serán NA.\n",
        "\n",
        "Aquí hay un resumen de las opciones de cómo y sus nombres equivalentes de SQL\n",
        "\n",
        "![image.png](data:image/png;base64,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)"
      ]
    },
    {
      "cell_type": "markdown",
      "metadata": {
        "id": "B3Lrb_TaNI_D"
      },
      "source": [
        "![image.png](data:image/png;base64,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)"
      ]
    },
    {
      "cell_type": "code",
      "execution_count": 17,
      "metadata": {
        "colab": {
          "base_uri": "https://localhost:8080/"
        },
        "id": "IkfepRXXL3yo",
        "outputId": "e644eb66-0bb7-4abb-a353-93658f6cc870"
      },
      "outputs": [
        {
          "name": "stdout",
          "output_type": "stream",
          "text": [
            "   id_x  Name_x subject_id  id_y Name_y\n",
            "0     1    Alex       sub1   NaN    NaN\n",
            "1     2     Amy       sub2   1.0  Billy\n",
            "2     3   Allen       sub4   2.0  Brian\n",
            "3     4   Alice       sub6   4.0  Bryce\n",
            "4     5  Ayoung       sub5   5.0  Betty\n"
          ]
        }
      ],
      "source": [
        "#Left Join\n",
        "import pandas as pd\n",
        "left = pd.DataFrame({\n",
        "   'id':[1,2,3,4,5],\n",
        "   'Name': ['Alex', 'Amy', 'Allen', 'Alice', 'Ayoung'],\n",
        "   'subject_id':['sub1','sub2','sub4','sub6','sub5']})\n",
        "right = pd.DataFrame({\n",
        "   'id':[1,2,3,4,5],\n",
        "   'Name': ['Billy', 'Brian', 'Bran', 'Bryce', 'Betty'],\n",
        "   'subject_id':['sub2','sub4','sub3','sub6','sub5']})\n",
        "print(pd.merge(left, right, on='subject_id', how='left'))"
      ]
    },
    {
      "cell_type": "code",
      "execution_count": 18,
      "metadata": {
        "colab": {
          "base_uri": "https://localhost:8080/"
        },
        "id": "T4ao9D35MuXQ",
        "outputId": "07d513aa-b4c5-4197-82d6-4a1e37f59317"
      },
      "outputs": [
        {
          "name": "stdout",
          "output_type": "stream",
          "text": [
            "   id_x  Name_x subject_id  id_y Name_y\n",
            "0   2.0     Amy       sub2     1  Billy\n",
            "1   3.0   Allen       sub4     2  Brian\n",
            "2   NaN     NaN       sub3     3   Bran\n",
            "3   4.0   Alice       sub6     4  Bryce\n",
            "4   5.0  Ayoung       sub5     5  Betty\n"
          ]
        }
      ],
      "source": [
        "#Right Join\n",
        "import pandas as pd\n",
        "left = pd.DataFrame({\n",
        "   'id':[1,2,3,4,5],\n",
        "   'Name': ['Alex', 'Amy', 'Allen', 'Alice', 'Ayoung'],\n",
        "   'subject_id':['sub1','sub2','sub4','sub6','sub5']})\n",
        "right = pd.DataFrame({\n",
        "   'id':[1,2,3,4,5],\n",
        "   'Name': ['Billy', 'Brian', 'Bran', 'Bryce', 'Betty'],\n",
        "   'subject_id':['sub2','sub4','sub3','sub6','sub5']})\n",
        "print (pd.merge(left, right, on='subject_id', how='right'))"
      ]
    },
    {
      "cell_type": "code",
      "execution_count": 19,
      "metadata": {
        "colab": {
          "base_uri": "https://localhost:8080/"
        },
        "id": "h3bfdwlGM0-n",
        "outputId": "4def170a-1aa3-444f-c961-aa9479dd8007"
      },
      "outputs": [
        {
          "name": "stdout",
          "output_type": "stream",
          "text": [
            "   id_x  Name_x subject_id  id_y Name_y\n",
            "0   1.0    Alex       sub1   NaN    NaN\n",
            "1   2.0     Amy       sub2   1.0  Billy\n",
            "2   3.0   Allen       sub4   2.0  Brian\n",
            "3   4.0   Alice       sub6   4.0  Bryce\n",
            "4   5.0  Ayoung       sub5   5.0  Betty\n",
            "5   NaN     NaN       sub3   3.0   Bran\n"
          ]
        }
      ],
      "source": [
        "#Outer Join\n",
        "\n",
        "import pandas as pd\n",
        "left = pd.DataFrame({\n",
        "   'id':[1,2,3,4,5],\n",
        "   'Name': ['Alex', 'Amy', 'Allen', 'Alice', 'Ayoung'],\n",
        "   'subject_id':['sub1','sub2','sub4','sub6','sub5']})\n",
        "right = pd.DataFrame({\n",
        "   'id':[1,2,3,4,5],\n",
        "   'Name': ['Billy', 'Brian', 'Bran', 'Bryce', 'Betty'],\n",
        "   'subject_id':['sub2','sub4','sub3','sub6','sub5']})\n",
        "print (pd.merge(left, right, how='outer', on='subject_id'))"
      ]
    },
    {
      "cell_type": "code",
      "execution_count": 20,
      "metadata": {
        "colab": {
          "base_uri": "https://localhost:8080/"
        },
        "id": "ARBv6cwJM7ek",
        "outputId": "f585cdf4-2ec6-479c-b2dc-9947dc07ca87"
      },
      "outputs": [
        {
          "name": "stdout",
          "output_type": "stream",
          "text": [
            "   id_x  Name_x subject_id  id_y Name_y\n",
            "0     2     Amy       sub2     1  Billy\n",
            "1     3   Allen       sub4     2  Brian\n",
            "2     4   Alice       sub6     4  Bryce\n",
            "3     5  Ayoung       sub5     5  Betty\n"
          ]
        }
      ],
      "source": [
        "#Inner Join\n",
        "\n",
        "import pandas as pd\n",
        "left = pd.DataFrame({\n",
        "   'id':[1,2,3,4,5],\n",
        "   'Name': ['Alex', 'Amy', 'Allen', 'Alice', 'Ayoung'],\n",
        "   'subject_id':['sub1','sub2','sub4','sub6','sub5']})\n",
        "right = pd.DataFrame({\n",
        "   'id':[1,2,3,4,5],\n",
        "   'Name': ['Billy', 'Brian', 'Bran', 'Bryce', 'Betty'],\n",
        "   'subject_id':['sub2','sub4','sub3','sub6','sub5']})\n",
        "print(pd.merge(left, right, on='subject_id', how='inner'))"
      ]
    }
  ],
  "metadata": {
    "colab": {
      "collapsed_sections": [],
      "name": "02 - Pandas.ipynb",
      "provenance": [],
      "toc_visible": true
    },
    "kernelspec": {
      "display_name": "Python 3.9.7 ('.env': venv)",
      "language": "python",
      "name": "python3"
    },
    "language_info": {
      "name": "python",
      "version": "3.9.7"
    },
    "vscode": {
      "interpreter": {
        "hash": "6be7475e0ab55e7a94540114d5f7dcd0541f963e07536a06b173915411ce8a15"
      }
    }
  },
  "nbformat": 4,
  "nbformat_minor": 0
}
